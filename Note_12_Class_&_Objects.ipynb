{
  "nbformat": 4,
  "nbformat_minor": 0,
  "metadata": {
    "colab": {
      "provenance": [],
      "authorship_tag": "ABX9TyNFW4lSQCclM+xU9Amh2IMJ",
      "include_colab_link": true
    },
    "kernelspec": {
      "name": "python3",
      "display_name": "Python 3"
    },
    "language_info": {
      "name": "python"
    }
  },
  "cells": [
    {
      "cell_type": "markdown",
      "metadata": {
        "id": "view-in-github",
        "colab_type": "text"
      },
      "source": [
        "<a href=\"https://colab.research.google.com/github/redwan005/BracU-CSE110-Notes/blob/main/Note_12_Class_%26_Objects.ipynb\" target=\"_parent\"><img src=\"https://colab.research.google.com/assets/colab-badge.svg\" alt=\"Open In Colab\"/></a>"
      ]
    },
    {
      "cell_type": "markdown",
      "source": [
        "#Python Classes and Objects"
      ],
      "metadata": {
        "id": "yIKIGgDPFcWR"
      }
    },
    {
      "cell_type": "markdown",
      "source": [
        "Python Classes/Objects\n",
        "Python is an object oriented programming language.\n",
        "\n",
        "Almost everything in Python is an object, with its properties and methods.\n",
        "\n",
        "A Class is like an object constructor, or a \"blueprint\" for creating objects."
      ],
      "metadata": {
        "id": "D9vRv1BOFlyr"
      }
    },
    {
      "cell_type": "markdown",
      "source": [
        "###Create class :"
      ],
      "metadata": {
        "id": "_N9k82_mGKn8"
      }
    },
    {
      "cell_type": "code",
      "execution_count": null,
      "metadata": {
        "id": "XbRwryNmEN8-"
      },
      "outputs": [],
      "source": [
        "#To create a class, use the keyword class :\n",
        "\n",
        "#create a class named my_class, with a property named x :\n",
        "\n",
        "class my_class :\n",
        "    x = 5"
      ]
    },
    {
      "cell_type": "markdown",
      "source": [
        "###Create Object :\n",
        "Noe we can use the class named my_class to create objects :"
      ],
      "metadata": {
        "id": "KsU_tsnoGQda"
      }
    },
    {
      "cell_type": "code",
      "source": [
        "#create an object named p_1, and print the value of x :\n",
        "\n",
        "p_1 = my_class()\n",
        "print(p_1.x)"
      ],
      "metadata": {
        "id": "p4tDx4-gGZWg"
      },
      "execution_count": null,
      "outputs": []
    },
    {
      "cell_type": "markdown",
      "source": [
        "#The '_ _init__()' function\n",
        "The examples above are the classes and objects in their simlpest form, and are not really useful in real in real life applications.\\\n",
        "To understand the meaning of classes we have to understand the built-in '__init__()' function.\\\n",
        "All classes have a function caleed '__init__()', which is always executed when the class is being initiated.\\\n",
        "Use the '++init__()' function to assign values to object properties, or other operations that are neccessary to do when the object is being created :"
      ],
      "metadata": {
        "id": "ko4ozkEgghj-"
      }
    },
    {
      "cell_type": "code",
      "source": [
        "#Create a claas named Person, use the __init__() function to assign values for name and age:\n",
        "\n",
        "class Person :\n",
        "    def __init__(self, name, age) :\n",
        "        self.name = name\n",
        "        self.age = age\n",
        "p_1 = Person(\"John\", 36)\n",
        "\n",
        "print(p_1.name)\n",
        "print(p_1.age)"
      ],
      "metadata": {
        "colab": {
          "base_uri": "https://localhost:8080/"
        },
        "id": "HRoUB71ijG7V",
        "outputId": "ea758df1-97ba-4dab-f95c-151c47252a23"
      },
      "execution_count": null,
      "outputs": [
        {
          "output_type": "stream",
          "name": "stdout",
          "text": [
            "John\n",
            "36\n"
          ]
        }
      ]
    },
    {
      "cell_type": "markdown",
      "source": [
        "####Note :\n",
        "The __init__() function is called automatically every time the class is being used to create a new object."
      ],
      "metadata": {
        "id": "VGnA2bvbkk5u"
      }
    },
    {
      "cell_type": "markdown",
      "source": [
        "##Object Methods :\n",
        "Objects can also contain methods. Methods in objects are functions that belong to the object.\\\n",
        "\n",
        "Let us create a method in the Person class :"
      ],
      "metadata": {
        "id": "xYB_lQKak3XX"
      }
    },
    {
      "cell_type": "code",
      "source": [
        "#Insert a function that prints a greeting, and execute it on the p_1 object ;\n",
        "\n",
        "class Person :\n",
        "    def __init__(self, name, age) :\n",
        "        self.name = name\n",
        "        self.age = age\n",
        "    def my_function(self) :\n",
        "        print(\"Hi, my name is \" + self.name)\n",
        "\n",
        "p_1 = Person(\"John\", 36)\n",
        "p_1.my_function()"
      ],
      "metadata": {
        "colab": {
          "base_uri": "https://localhost:8080/"
        },
        "id": "IOJ_g31rk2rZ",
        "outputId": "13d3fe23-6f97-44c7-93ba-0a3421826232"
      },
      "execution_count": null,
      "outputs": [
        {
          "output_type": "stream",
          "name": "stdout",
          "text": [
            "Hi, my name is John\n"
          ]
        }
      ]
    },
    {
      "cell_type": "markdown",
      "source": [
        "####Note :\n",
        "the parameter is a reference to the current instance of the class, and is used to access variables that belongs to the class.\\\n",
        "It does not have to be named self, you can call it whatever tou like, but it has to be the first parameter of any function in the class :"
      ],
      "metadata": {
        "id": "hmQZvQmFv85O"
      }
    },
    {
      "cell_type": "code",
      "source": [
        "#Use the words mysillyobject and abc instead of self :\n",
        "\n",
        "class Person :\n",
        "    def __init__(my_silly_object, name, age) :\n",
        "        my_silly_object.name = name\n",
        "        my_silly_object.age = age\n",
        "\n",
        "    def my_function(abc) :\n",
        "        print(\"hi, my name is \" + abc.name)\n",
        "\n",
        "p_1 = Person(\"John\", 36)\n",
        "p_1.my_function()"
      ],
      "metadata": {
        "colab": {
          "base_uri": "https://localhost:8080/"
        },
        "id": "FDhpLg-dxbmH",
        "outputId": "75a9156e-46cc-4ba1-8ebb-bfefe007f885"
      },
      "execution_count": null,
      "outputs": [
        {
          "output_type": "stream",
          "name": "stdout",
          "text": [
            "hi, my name is John\n"
          ]
        }
      ]
    },
    {
      "cell_type": "code",
      "source": [
        "#Modify Object Properties :\n",
        "#You can modify properties on objectieees on onjects like this :\n",
        "\n",
        "#set the age of p_1 TO 40\n",
        "\n",
        "class person :\n",
        "    def __init__(self, name, age) :\n",
        "        self.name = name\n",
        "        self.age = age\n",
        "    def my_function(self) :\n",
        "        print(\"Hi, my name is \" + self.name)\n",
        "p_1 = person(\"John\", 36)\n",
        "p_1.age = 40\n",
        "print(p_1.age)"
      ],
      "metadata": {
        "id": "65dmgX-W6UIr"
      },
      "execution_count": null,
      "outputs": []
    },
    {
      "cell_type": "code",
      "source": [
        "#Delete Object Properties\n",
        "#You can delete properties on objects by using the del keyword :\n",
        "\n",
        "#Delete the age property from the p_1 object :\n",
        "\n",
        "class person :\n",
        "    def __init__(self, name, age) :\n",
        "        self.name = name\n",
        "        self.age = age\n",
        "    def my_function(self) :\n",
        "        print(\"hi, my name is \" + self.name)\n",
        "p_1 = person(\"John\", 36)\n",
        "del p_1.age\n",
        "print(p_1.age)"
      ],
      "metadata": {
        "id": "MnFMFM7n9CF_"
      },
      "execution_count": null,
      "outputs": []
    },
    {
      "cell_type": "code",
      "source": [
        "#Delete Objects\n",
        "#You can delete objects by using the del keyword\n",
        "\n",
        "#Delete the p_1 object\n",
        "\n",
        "class person :\n",
        "    def __init__(self, name, age) :\n",
        "        self.name = name\n",
        "        self.age = age\n",
        "    def my_function(self):\n",
        "        print(\"My name is \" + self.name)\n",
        "p_1 = person(\"John\", 36)\n",
        "del p_1\n",
        "print(p_1)"
      ],
      "metadata": {
        "colab": {
          "base_uri": "https://localhost:8080/",
          "height": 208
        },
        "id": "jh2ThiXM-ID2",
        "outputId": "fbc9dc40-08d9-49a9-aa09-29c7ce7f843e"
      },
      "execution_count": null,
      "outputs": [
        {
          "output_type": "error",
          "ename": "NameError",
          "evalue": "ignored",
          "traceback": [
            "\u001b[0;31m---------------------------------------------------------------------------\u001b[0m",
            "\u001b[0;31mNameError\u001b[0m                                 Traceback (most recent call last)",
            "\u001b[0;32m<ipython-input-4-f64acafff732>\u001b[0m in \u001b[0;36m<module>\u001b[0;34m()\u001b[0m\n\u001b[1;32m     12\u001b[0m \u001b[0mp_1\u001b[0m \u001b[0;34m=\u001b[0m \u001b[0mperson\u001b[0m\u001b[0;34m(\u001b[0m\u001b[0;34m\"John\"\u001b[0m\u001b[0;34m,\u001b[0m \u001b[0;36m36\u001b[0m\u001b[0;34m)\u001b[0m\u001b[0;34m\u001b[0m\u001b[0;34m\u001b[0m\u001b[0m\n\u001b[1;32m     13\u001b[0m \u001b[0;32mdel\u001b[0m \u001b[0mp_1\u001b[0m\u001b[0;34m\u001b[0m\u001b[0;34m\u001b[0m\u001b[0m\n\u001b[0;32m---> 14\u001b[0;31m \u001b[0mprint\u001b[0m\u001b[0;34m(\u001b[0m\u001b[0mp_1\u001b[0m\u001b[0;34m)\u001b[0m\u001b[0;34m\u001b[0m\u001b[0;34m\u001b[0m\u001b[0m\n\u001b[0m",
            "\u001b[0;31mNameError\u001b[0m: name 'p_1' is not defined"
          ]
        }
      ]
    },
    {
      "cell_type": "markdown",
      "source": [
        "jehetu deleted tai kono result show korbe na"
      ],
      "metadata": {
        "id": "kK1eWI0oBpTn"
      }
    },
    {
      "cell_type": "code",
      "source": [
        "#The Pass Statement\n",
        "#class definition cannot be empty, but if you for some reason\n",
        "#have a class definition with no content,\n",
        "#put the pass statement to avoid getting an error.\n",
        "\n",
        "class person :\n",
        "    pass"
      ],
      "metadata": {
        "id": "psfpOfAeBudL"
      },
      "execution_count": null,
      "outputs": []
    }
  ]
}