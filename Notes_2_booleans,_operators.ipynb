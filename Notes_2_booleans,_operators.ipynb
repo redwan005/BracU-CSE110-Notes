{
  "nbformat": 4,
  "nbformat_minor": 0,
  "metadata": {
    "colab": {
      "provenance": [],
      "include_colab_link": true
    },
    "kernelspec": {
      "name": "python3",
      "display_name": "Python 3"
    },
    "language_info": {
      "name": "python"
    }
  },
  "cells": [
    {
      "cell_type": "markdown",
      "metadata": {
        "id": "view-in-github",
        "colab_type": "text"
      },
      "source": [
        "<a href=\"https://colab.research.google.com/github/redwan005/BracU-CSE110-Notes/blob/main/Notes_2_booleans%2C_operators.ipynb\" target=\"_parent\"><img src=\"https://colab.research.google.com/assets/colab-badge.svg\" alt=\"Open In Colab\"/></a>"
      ]
    },
    {
      "cell_type": "code",
      "execution_count": null,
      "metadata": {
        "id": "akdrcSBBpFTk"
      },
      "outputs": [],
      "source": [
        "all numbers are True except 0\n",
        "any string is True except empty strings\n",
        "any list, tuple, set and dictionary are True except empty ones\n",
        "__len__ function evaluates False"
      ]
    },
    {
      "cell_type": "code",
      "source": [
        "#These are false values :\n",
        "\n",
        "bool(False)\n",
        "bool(None)\n",
        "bool(0)\n",
        "bool(\"\")\n",
        "bool(())\n",
        "bool([])\n",
        "bool({})"
      ],
      "metadata": {
        "id": "4Huq4rEexqf4"
      },
      "execution_count": null,
      "outputs": []
    },
    {
      "cell_type": "code",
      "source": [
        "#Functions can return a boolean\n",
        "def myFunction() :\n",
        "  return False\n",
        "\n",
        "if myFunction():\n",
        "  print(\"YES!\")\n",
        "else:\n",
        "  print(\"NO!\")"
      ],
      "metadata": {
        "colab": {
          "base_uri": "https://localhost:8080/"
        },
        "id": "VPSlkfFDx48J",
        "outputId": "94c51cf2-0248-4c10-d6f1-cd33404f9b52"
      },
      "execution_count": null,
      "outputs": [
        {
          "output_type": "stream",
          "name": "stdout",
          "text": [
            "NO!\n"
          ]
        }
      ]
    },
    {
      "cell_type": "code",
      "source": [
        "#A built-in function that returns boolean value\n",
        "# isinstance() can be used to know if theobject is of a certain data typr\n",
        "x = 200\n",
        "print(isinstance(x, int))"
      ],
      "metadata": {
        "colab": {
          "base_uri": "https://localhost:8080/"
        },
        "id": "Mz8NjkJb_4RO",
        "outputId": "11f3f054-10c7-4db5-88f5-4b42a4fea5eb"
      },
      "execution_count": null,
      "outputs": [
        {
          "output_type": "stream",
          "name": "stdout",
          "text": [
            "True\n"
          ]
        }
      ]
    },
    {
      "cell_type": "markdown",
      "source": [
        "Python  Operator"
      ],
      "metadata": {
        "id": "qt-SD6Y0A14U"
      }
    },
    {
      "cell_type": "code",
      "source": [
        "#Python Arithmetic Operators\n",
        "\n",
        "+\t    Addition\t          x + y\n",
        "-\t    Subtraction   \t    x - y\n",
        "*\t    Multiplication\t    x * y\n",
        "/\t    Division\t          x / y\n",
        "%\t    Modulus\t            x % y\n",
        "**\t  Exponentiation\t    x ** y\n",
        "//\t  Floor division\t    x // y"
      ],
      "metadata": {
        "id": "LaOWCGxuBDmF"
      },
      "execution_count": null,
      "outputs": []
    },
    {
      "cell_type": "code",
      "source": [
        "#Python Assignment Operators\n",
        "\n",
        "operator    Example      same as\n",
        "=\t          x = 5\t        x = 5\n",
        "+=\t        x += 3\t      x = x + 3\n",
        "-=\t        x -= 3\t      x = x - 3\n",
        "*=\t        x *= 3\t      x = x * 3\n",
        "/=\t        x /= 3\t      x = x / 3\n",
        "%=\t        x %= 3\t      x = x % 3\n",
        "//=\t        x //= 3\t      x = x // 3\n",
        "**=\t        x **= 3\t      x = x ** 3\n",
        "&=\t        x &= 3\t      x = x & 3\n",
        "|=\t        x |= 3\t      x = x | 3\n",
        "^=  \t      x ^= 3\t      x = x ^ 3\n",
        ">>=\t        x >>= 3\t      x = x >> 3\n",
        "<<=\t        x <<= 3\t      x = x << 3"
      ],
      "metadata": {
        "id": "Y6TYi1MEIChN"
      },
      "execution_count": null,
      "outputs": []
    },
    {
      "cell_type": "code",
      "source": [
        "#Python Comparison Operators\n",
        "\n",
        "Operator  \tName  \t                    Example\n",
        "==\t        Equal\t                      x == y\n",
        "!=\t        Not equal\t                  x != y\n",
        ">\t          Greater than\t              x > y\n",
        "<\t          Less than\t                  x < y\n",
        ">=\t        Greater than or equal to\t  x >= y\n",
        "<=\t        Less than or equal to\t      x <= y"
      ],
      "metadata": {
        "id": "GhHH87jzIDr1"
      },
      "execution_count": null,
      "outputs": []
    },
    {
      "cell_type": "code",
      "source": [
        "#Python Logical Operators\n",
        "\n",
        "Operator  Description\t                                                Example\n",
        "and \t    Returns True if both statements are true\t                  x < 5 and  x < 10\n",
        "or\t      Returns True if one of the statements is true\t              x < 5 or x < 4\n",
        "not\t      Reverse the result, returns False if the result is true\t    not(x < 5 and x < 10)\n"
      ],
      "metadata": {
        "id": "4Chk02k5J4hc"
      },
      "execution_count": null,
      "outputs": []
    },
    {
      "cell_type": "code",
      "source": [
        "#Python Identity Operators\n",
        "\n",
        "Operator\tDescription\t                                                Example\tTry it\n",
        "is \t      Returns True if both variables are the same object\t        x is y\n",
        "is not\t  Returns True if both variables are not the same object\t    x is not y"
      ],
      "metadata": {
        "id": "Spc0aqkAKV9_"
      },
      "execution_count": null,
      "outputs": []
    },
    {
      "cell_type": "code",
      "source": [
        "#Python Membership Operators\n",
        "\n",
        "Operator   Description\t                                                                      Example\n",
        "in \t       Returns True if a sequence with the specified value is present in the object\t      x in y\n",
        "not in\t   Returns True if a sequence with the specified value is not present in the object\t  x not in y"
      ],
      "metadata": {
        "id": "gtUeSKV3Kr1D"
      },
      "execution_count": null,
      "outputs": []
    },
    {
      "cell_type": "code",
      "source": [
        "#Python Bitwise Operators\n",
        "\n",
        "Operator  Name                 Description\n",
        "& \t      AND\t                 Sets each bit to 1 if both bits are 1\n",
        "|\t        OR\t                 Sets each bit to 1 if one of two bits is 1\n",
        "^\t        XOR\t                 Sets each bit to 1 if only one of two bits is 1\n",
        "~ \t      NOT\t                 Inverts all the bits\n",
        "<<\t      Zero                 fill left shift\tShift left by pushing zeros in from the right and let the leftmost bits fall off\n",
        ">>\t      Signed right shift\t Shift right by pushing copies of the leftmost bit in from the left, and let the rightmost bits fall off\n"
      ],
      "metadata": {
        "id": "6HH7GrM9LIUL"
      },
      "execution_count": null,
      "outputs": []
    }
  ]
}