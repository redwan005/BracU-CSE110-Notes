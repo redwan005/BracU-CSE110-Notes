{
  "nbformat": 4,
  "nbformat_minor": 0,
  "metadata": {
    "colab": {
      "provenance": [],
      "authorship_tag": "ABX9TyNvrDFi10eWHQ6V9PCJG1Gn",
      "include_colab_link": true
    },
    "kernelspec": {
      "name": "python3",
      "display_name": "Python 3"
    },
    "language_info": {
      "name": "python"
    }
  },
  "cells": [
    {
      "cell_type": "markdown",
      "metadata": {
        "id": "view-in-github",
        "colab_type": "text"
      },
      "source": [
        "<a href=\"https://colab.research.google.com/github/redwan005/BracU-CSE110-Notes/blob/main/Notes_7_if%2Celse%2Celif%2Cconditions%2Cetc.ipynb\" target=\"_parent\"><img src=\"https://colab.research.google.com/assets/colab-badge.svg\" alt=\"Open In Colab\"/></a>"
      ]
    },
    {
      "cell_type": "markdown",
      "source": [
        "##If...Else"
      ],
      "metadata": {
        "id": "7mvlH8DA1irV"
      }
    },
    {
      "cell_type": "markdown",
      "source": [
        "Python Conditions and If statements\n",
        "Python supports the usual logical conditions from mathematics:\n",
        "\n",
        "Equals: a == b\\\n",
        "Not Equals: a != b\\\n",
        "Less than: a < b\\\n",
        "Less than or equal to: a <= b\\\n",
        "Greater than: a > b\\\n",
        "Greater than or equal to: a >= b\\\n",
        "These conditions can be used in several ways, most commonly in \"if statements\" and loops.\\\n",
        "\n",
        "An \"if statement\" is written by using the if keyword."
      ],
      "metadata": {
        "id": "SqIFuczg1qU-"
      }
    },
    {
      "cell_type": "code",
      "source": [
        "#Nested If\n",
        "\n",
        "x = 41\n",
        "\n",
        "if x > 10:\n",
        "  print(\"Above ten,\")\n",
        "  if x > 20:\n",
        "    print(\"and also above 20!\")\n",
        "  else:\n",
        "    print(\"but not above 20.\")"
      ],
      "metadata": {
        "id": "fSw1P1FDEvj-"
      },
      "execution_count": null,
      "outputs": []
    },
    {
      "cell_type": "code",
      "execution_count": null,
      "metadata": {
        "id": "rhAWoc8Ww95t"
      },
      "outputs": [],
      "source": [
        "#Elif\n",
        "a = 33\n",
        "b = 33\n",
        "if b > a:\n",
        "  print(\"b is greater than a\")\n",
        "elif a == b:\n",
        "  print(\"a and b are equal\")\n",
        "else:\n",
        "  print(\"a is greater than b\")"
      ]
    },
    {
      "cell_type": "code",
      "source": [
        "#SHORT HAND\n",
        "# 1 line e likhle setake short hand bole\n",
        "\n",
        "#if :\n",
        "if a > b: print(\"a is greater than b\")\n",
        "#if...else\n",
        "print(\"A\") if a > b else print(\"B\")\n",
        "#Multiple statements i a same line\n",
        "print(\"A\") if a > b else print(\"=\") if a == b else print(\"B\")"
      ],
      "metadata": {
        "id": "jooH2mJJDo2v"
      },
      "execution_count": null,
      "outputs": []
    },
    {
      "cell_type": "code",
      "source": [
        "#AND\n",
        "a = 200\n",
        "b = 33\n",
        "c = 500\n",
        "if a > b and c > a:\n",
        "  print(\"Both conditions are True\")\n",
        "\n",
        "  #OR\n",
        "  a = 200\n",
        "b = 33\n",
        "c = 500\n",
        "if a > b or a > c:\n",
        "  print(\"At least one of the conditions is True\")"
      ],
      "metadata": {
        "id": "31giElE8Ed2J"
      },
      "execution_count": null,
      "outputs": []
    },
    {
      "cell_type": "code",
      "source": [
        "#Pass Statement\n",
        "#if statements cannot be empty, but if you for some reason have an if statement with no content, put in the pass statement to avoid getting an error.\n",
        "\n",
        "a = 33\n",
        "b = 200\n",
        "if b > a:\n",
        "  pass"
      ],
      "metadata": {
        "id": "dEWESYiJEoXC"
      },
      "execution_count": null,
      "outputs": []
    }
  ]
}