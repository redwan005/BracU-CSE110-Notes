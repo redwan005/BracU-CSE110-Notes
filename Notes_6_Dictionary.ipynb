{
  "nbformat": 4,
  "nbformat_minor": 0,
  "metadata": {
    "colab": {
      "provenance": [],
      "include_colab_link": true
    },
    "kernelspec": {
      "name": "python3",
      "display_name": "Python 3"
    },
    "language_info": {
      "name": "python"
    }
  },
  "cells": [
    {
      "cell_type": "markdown",
      "metadata": {
        "id": "view-in-github",
        "colab_type": "text"
      },
      "source": [
        "<a href=\"https://colab.research.google.com/github/redwan005/BracU-CSE110-Notes/blob/main/Notes_6_Dictionary.ipynb\" target=\"_parent\"><img src=\"https://colab.research.google.com/assets/colab-badge.svg\" alt=\"Open In Colab\"/></a>"
      ]
    },
    {
      "cell_type": "markdown",
      "source": [
        "##Dictionaris\n",
        "-to store data values in key : value pairs\\\n",
        "-eritten with curled bracket\\\n",
        "-items are ordered, changable, does not allow duplicate items\\\n",
        "-items are presented in key:value pairs, and can be referred to by using the key name."
      ],
      "metadata": {
        "id": "p5KazZcn3nHK"
      }
    },
    {
      "cell_type": "code",
      "execution_count": null,
      "metadata": {
        "colab": {
          "base_uri": "https://localhost:8080/"
        },
        "id": "grPXGBtv3XWm",
        "outputId": "11a7dcaf-897f-49ab-d793-1bcf5eb66e5b"
      },
      "outputs": [
        {
          "output_type": "stream",
          "name": "stdout",
          "text": [
            "1964\n"
          ]
        }
      ],
      "source": [
        "a_dict = {\"brand\":\"Ford\", \"model\":\"Mustang\", \"year\":1964}\n",
        "print(a_dict[\"year\"])"
      ]
    },
    {
      "cell_type": "code",
      "source": [
        "#Duplicate values will overwrite exosting values\n",
        "thisdict = {\n",
        "  \"brand\": \"Ford\",\n",
        "  \"model\": \"Mustang\",\n",
        "  \"year\": 1964,\n",
        "  \"year\": 2020\n",
        "}\n",
        "print(thisdict)"
      ],
      "metadata": {
        "id": "Y6VUc5dw5ocq",
        "colab": {
          "base_uri": "https://localhost:8080/"
        },
        "outputId": "b994228c-8ef7-4030-d9b2-e6ed94637b87"
      },
      "execution_count": null,
      "outputs": [
        {
          "output_type": "stream",
          "name": "stdout",
          "text": [
            "{'brand': 'Ford', 'model': 'Mustang', 'year': 2020}\n"
          ]
        }
      ]
    },
    {
      "cell_type": "code",
      "source": [
        "#Length of A DICTIONARY\n",
        "thisdict = {\"brand\":\"Ford\", \"model\":\"Mustang\", \"Year\":1964}\n",
        "print(len(thisdict))"
      ],
      "metadata": {
        "colab": {
          "base_uri": "https://localhost:8080/"
        },
        "id": "HCgHtwIIKj-v",
        "outputId": "6be17244-0cb4-479d-f399-212a75c86ea9"
      },
      "execution_count": null,
      "outputs": [
        {
          "output_type": "stream",
          "name": "stdout",
          "text": [
            "3\n"
          ]
        }
      ]
    },
    {
      "cell_type": "markdown",
      "source": [
        "##Access Dictionary Items"
      ],
      "metadata": {
        "id": "zuRUAWmFLT97"
      }
    },
    {
      "cell_type": "code",
      "source": [
        "#easy :\n",
        "a_dict = {\"brand\": \"Ford\", \"model\": \"Mustang\", \"year\": 1964}\n",
        "print(a_dict[\"model\"])\n",
        "output = a_dict[\"year\"]\n",
        "print(output)\n",
        "\n",
        "#OR\n",
        "#Use get() method to do the same\n",
        "a_dict = {\"brand\": \"Ford\", \"model\": \"Mustang\", \"year\": 1964}\n",
        "print(a_dict.get(\"model\"))"
      ],
      "metadata": {
        "colab": {
          "base_uri": "https://localhost:8080/"
        },
        "id": "k3V2WkmOLXbX",
        "outputId": "f8328e6c-f4ea-409c-b776-9a9e4a89218e"
      },
      "execution_count": null,
      "outputs": [
        {
          "output_type": "stream",
          "name": "stdout",
          "text": [
            "Mustang\n",
            "1964\n",
            "Mustang\n"
          ]
        }
      ]
    },
    {
      "cell_type": "code",
      "source": [
        "#keys() method will give you a list of all the keys in the dictionary\n",
        "a_dict = {\"brand\": \"Ford\", \"model\": \"Mustang\", \"year\": 1964}\n",
        "keys = a_dict.keys()\n",
        "print(keys)\n",
        "\n",
        "#if any changes are made this method will reflect it\n",
        "a_dict = {\"brand\": \"Ford\", \"model\": \"Mustang\", \"year\": 1964}\n",
        "keys = a_dict.keys()\n",
        "a_dict[\"colour\"] = \"white\", \"blue\"\n",
        "print(keys)"
      ],
      "metadata": {
        "colab": {
          "base_uri": "https://localhost:8080/"
        },
        "id": "8RdjUV-qMkJ3",
        "outputId": "f177aa7d-6542-4d76-e59c-da8cdef5742f"
      },
      "execution_count": null,
      "outputs": [
        {
          "output_type": "stream",
          "name": "stdout",
          "text": [
            "dict_keys(['brand', 'model', 'year'])\n",
            "dict_keys(['brand', 'model', 'year', 'colour'])\n"
          ]
        }
      ]
    },
    {
      "cell_type": "code",
      "source": [
        "#values() method is same as keys() method but it just gives a list of values of the values\n",
        "a_dict = {\"brand\": \"Ford\", \"model\": \"Mustang\", \"year\": 1964}\n",
        "values = a_dict.values()\n",
        "a_dict[\"year\"] = 2020\n",
        "a_dict[\"colour\"] = \"white\", \"blue\"\n",
        "print(values)"
      ],
      "metadata": {
        "colab": {
          "base_uri": "https://localhost:8080/"
        },
        "id": "FK5JR_XLOFXV",
        "outputId": "39a3cfdb-4635-4c98-d95e-c6bf056b1704"
      },
      "execution_count": null,
      "outputs": [
        {
          "output_type": "stream",
          "name": "stdout",
          "text": [
            "dict_values(['Ford', 'Mustang', 2020, ('white', 'blue')])\n"
          ]
        }
      ]
    },
    {
      "cell_type": "code",
      "source": [
        "#Get Items\n",
        "#items() method will return each items in a dictionary, as tuples in al ist\n",
        "a_dict = {\"brand\": \"Ford\", \"model\": \"Mustang\", \"year\": 1964}\n",
        "items = a_dict.items()\n",
        "print(items)\n",
        "a_dict[\"year\"] = 2020\n",
        "print(items)"
      ],
      "metadata": {
        "colab": {
          "base_uri": "https://localhost:8080/"
        },
        "id": "2blUe28CRCjB",
        "outputId": "25692c16-b222-4f6e-dda6-f3d50391c9f1"
      },
      "execution_count": null,
      "outputs": [
        {
          "output_type": "stream",
          "name": "stdout",
          "text": [
            "dict_items([('brand', 'Ford'), ('model', 'Mustang'), ('year', 1964)])\n",
            "dict_items([('brand', 'Ford'), ('model', 'Mustang'), ('year', 2020)])\n"
          ]
        }
      ]
    },
    {
      "cell_type": "code",
      "source": [
        "#checking if key exists :\n",
        "a_dict = {\"brand\": \"Ford\", \"model\": \"Mustang\", \"year\": 1964}\n",
        "if \"model\" in a_dict :\n",
        "    print(\"Yes, 'model' is a key in a_dict dictionary\")\n",
        "else :\n",
        "    print(\"Sorry, this item doesn't exist\")"
      ],
      "metadata": {
        "colab": {
          "base_uri": "https://localhost:8080/"
        },
        "id": "FyqDiD8kR7oW",
        "outputId": "a8681f31-85dc-4c9a-c4c1-7e07fbf41eb0"
      },
      "execution_count": null,
      "outputs": [
        {
          "output_type": "stream",
          "name": "stdout",
          "text": [
            "Yes, 'model' is a key in a_dict dictionary\n"
          ]
        }
      ]
    },
    {
      "cell_type": "markdown",
      "source": [
        "##Change Dictionary Items"
      ],
      "metadata": {
        "id": "dDI0j3DXTIYA"
      }
    },
    {
      "cell_type": "code",
      "source": [
        "#Basic way\n",
        "a_dict = {\"brand\": \"Ford\", \"model\": \"Mustang\", \"year\": 1964}\n",
        "a_dict[\"year\"] = 2018\n",
        "print(a_dict)"
      ],
      "metadata": {
        "colab": {
          "base_uri": "https://localhost:8080/"
        },
        "id": "6-uHsJOCTPOz",
        "outputId": "48d65238-d029-4dee-e4ad-1d0093c23fed"
      },
      "execution_count": null,
      "outputs": [
        {
          "output_type": "stream",
          "name": "stdout",
          "text": [
            "{'brand': 'Ford', 'model': 'Mustang', 'year': 2018}\n"
          ]
        }
      ]
    },
    {
      "cell_type": "code",
      "source": [
        "#update() method is also a way\n",
        "a_dict = {\"brand\": \"Ford\", \"model\": \"Mustang\", \"year\": 1964}\n",
        "a_dict.update({\"year\":2020})\n",
        "print(a_dict)"
      ],
      "metadata": {
        "colab": {
          "base_uri": "https://localhost:8080/"
        },
        "id": "wT3kLV00ToYw",
        "outputId": "f6766efd-c8da-4c48-8196-3639d9aef500"
      },
      "execution_count": null,
      "outputs": [
        {
          "output_type": "stream",
          "name": "stdout",
          "text": [
            "{'brand': 'Ford', 'model': 'Mustang', 'year': 2020}\n"
          ]
        }
      ]
    },
    {
      "cell_type": "markdown",
      "source": [
        "##Add Dictionary Items"
      ],
      "metadata": {
        "id": "bAGBfdH0UhOV"
      }
    },
    {
      "cell_type": "code",
      "source": [
        "#by using a new index key and assigning a value to it\n",
        "a_dict = {\"brand\": \"Ford\", \"model\": \"Mustang\", \"year\": 1964}\n",
        "a_dict[\"colour\"] = \"white\", \"blue\"\n",
        "print(a_dict)"
      ],
      "metadata": {
        "colab": {
          "base_uri": "https://localhost:8080/"
        },
        "id": "z8J0hgT4UgLe",
        "outputId": "d101e926-27a9-4e5b-e7e7-93c34bebc371"
      },
      "execution_count": null,
      "outputs": [
        {
          "output_type": "stream",
          "name": "stdout",
          "text": [
            "{'brand': 'Ford', 'model': 'Mustang', 'year': 1964, 'colour': ('white', 'blue')}\n"
          ]
        }
      ]
    },
    {
      "cell_type": "code",
      "source": [
        "#by usiing  update() method\n",
        "#age exist na korle add hobe\n",
        "#argument ta dictionary akare othoba emon konop iterable object use kora lagbe jetay key:value pair ache\n",
        "a_dict = {\"brand\": \"Ford\", \"model\": \"Mustang\", \"year\": 1964}\n",
        "a_dict.update({\"colour\":(\"white\", \"blue\")})   #curled bracket dite hobe\n",
        "print(a_dict)"
      ],
      "metadata": {
        "colab": {
          "base_uri": "https://localhost:8080/"
        },
        "id": "IaBKCaFCX98n",
        "outputId": "a853e609-64c3-4d98-a4ab-d4160ca10034"
      },
      "execution_count": null,
      "outputs": [
        {
          "output_type": "stream",
          "name": "stdout",
          "text": [
            "{'brand': 'Ford', 'model': 'Mustang', 'year': 1964, 'colour': ('white', 'blue')}\n"
          ]
        }
      ]
    },
    {
      "cell_type": "markdown",
      "source": [
        "##Removing Dictionary Items"
      ],
      "metadata": {
        "id": "GMV408gzbr6R"
      }
    },
    {
      "cell_type": "code",
      "source": [
        "#Using pop() method :\n",
        "a_dict = {\"brand\": \"Ford\", \"model\": \"Mustang\", \"year\": 1964}\n",
        "a_dict.pop(\"year\")\n",
        "print(a_dict)"
      ],
      "metadata": {
        "colab": {
          "base_uri": "https://localhost:8080/"
        },
        "id": "V__9mEwZbvVK",
        "outputId": "06b9457b-6aba-4659-9620-eb2aee430256"
      },
      "execution_count": null,
      "outputs": [
        {
          "output_type": "stream",
          "name": "stdout",
          "text": [
            "{'brand': 'Ford', 'model': 'Mustang'}\n"
          ]
        }
      ]
    },
    {
      "cell_type": "code",
      "source": [
        "#Using popitem() will remove the last item\n",
        "#but as before version 3.7 dictionary was unordered so a random item would get deleted\n",
        "a_dict = {\"brand\": \"Ford\", \"model\": \"Mustang\", \"year\": 1964}\n",
        "a_dict.popitem()\n",
        "print(a_dict)"
      ],
      "metadata": {
        "colab": {
          "base_uri": "https://localhost:8080/"
        },
        "id": "-6f26rLdcNaQ",
        "outputId": "e9d5ea77-836a-4cdd-e329-3e067007de32"
      },
      "execution_count": null,
      "outputs": [
        {
          "output_type": "stream",
          "name": "stdout",
          "text": [
            "{'brand': 'Ford', 'model': 'Mustang'}\n"
          ]
        }
      ]
    },
    {
      "cell_type": "code",
      "source": [
        "#use del keyword to remove specific item\n",
        "a_dict = {\"brand\": \"Ford\", \"model\": \"Mustang\", \"year\": 1964}\n",
        "del a_dict[\"model\"]    #kono item na dile pura dictionary e delete hoye jabe\n",
        "print(a_dict)"
      ],
      "metadata": {
        "colab": {
          "base_uri": "https://localhost:8080/"
        },
        "id": "_taPhEStc0C_",
        "outputId": "062146dc-ae72-4c95-9fb1-56d602a97bcd"
      },
      "execution_count": null,
      "outputs": [
        {
          "output_type": "stream",
          "name": "stdout",
          "text": [
            "{'brand': 'Ford', 'year': 1964}\n"
          ]
        }
      ]
    },
    {
      "cell_type": "code",
      "source": [
        "#clear() method emties the dictionary\n",
        "a_dict = {\"brand\": \"Ford\", \"model\": \"Mustang\", \"year\": 1964}\n",
        "a_dict.clear()\n",
        "print(a_dict)"
      ],
      "metadata": {
        "colab": {
          "base_uri": "https://localhost:8080/"
        },
        "id": "azlaxAvAeaWw",
        "outputId": "3cd3a05f-bd9a-4924-eb3d-d9385353f000"
      },
      "execution_count": null,
      "outputs": [
        {
          "output_type": "stream",
          "name": "stdout",
          "text": [
            "{}\n"
          ]
        }
      ]
    },
    {
      "cell_type": "markdown",
      "source": [
        "##Loop Dictionary"
      ],
      "metadata": {
        "id": "hp2Cx3yBentv"
      }
    },
    {
      "cell_type": "code",
      "source": [
        "#print all keys in a dictionary\n",
        "a_dict = {\"brand\": \"Ford\", \"model\": \"Mustang\", \"year\": 1964}\n",
        "for count in a_dict :\n",
        "  print(count)\n",
        "\n",
        "#print all the values in a dictionary\n",
        "for count in a_dict :\n",
        "    print(a_dict[count])"
      ],
      "metadata": {
        "colab": {
          "base_uri": "https://localhost:8080/"
        },
        "id": "ICgFNfgbeqnp",
        "outputId": "00caea4a-05a2-4f6d-9912-1a8e0c55839a"
      },
      "execution_count": null,
      "outputs": [
        {
          "output_type": "stream",
          "name": "stdout",
          "text": [
            "brand\n",
            "model\n",
            "year\n",
            "Ford\n",
            "Mustang\n",
            "1964\n"
          ]
        }
      ]
    },
    {
      "cell_type": "code",
      "source": [
        "# same thing using methods :\n",
        "a_dict = {\"brand\": \"Ford\", \"model\": \"Mustang\", \"year\": 1964}\n",
        "#keys :\n",
        "for count in a_dict.keys() :\n",
        "    print(count)\n",
        "#values :\n",
        "for count in a_dict.values() :\n",
        "    print(count)"
      ],
      "metadata": {
        "colab": {
          "base_uri": "https://localhost:8080/"
        },
        "id": "XBxB5ZdRg1OA",
        "outputId": "88e5059b-7fde-441e-8573-3d02b7d52b9c"
      },
      "execution_count": null,
      "outputs": [
        {
          "output_type": "stream",
          "name": "stdout",
          "text": [
            "brand\n",
            "model\n",
            "year\n",
            "Ford\n",
            "Mustang\n",
            "1964\n"
          ]
        }
      ]
    },
    {
      "cell_type": "code",
      "source": [
        "#Loop through both keys and values, by using the items() method\n",
        "a_dict = {\"brand\": \"Ford\", \"model\": \"Mustang\", \"year\": 1964}\n",
        "\n",
        "for x, y in a_dict.items() :\n",
        "    print(x, y)"
      ],
      "metadata": {
        "colab": {
          "base_uri": "https://localhost:8080/"
        },
        "id": "hbivgcKpj9r2",
        "outputId": "6356a13f-be2b-491b-e96e-761aebf5c9e9"
      },
      "execution_count": null,
      "outputs": [
        {
          "output_type": "stream",
          "name": "stdout",
          "text": [
            "brand Ford\n",
            "model Mustang\n",
            "year 1964\n"
          ]
        }
      ]
    },
    {
      "cell_type": "markdown",
      "source": [
        "##Copy dictionaries"
      ],
      "metadata": {
        "id": "GFuntIcSlSCH"
      }
    },
    {
      "cell_type": "code",
      "source": [
        "#Make a copy of a dictionary with the copy() method :\n",
        "a_dict = {\"brand\": \"Ford\", \"model\": \"Mustang\", \"year\": 1964}\n",
        "new_dict =  a_dict.copy()\n",
        "print(new_dict)"
      ],
      "metadata": {
        "colab": {
          "base_uri": "https://localhost:8080/"
        },
        "id": "N6LW4eKblVoK",
        "outputId": "51523db7-58bc-4e51-e3b2-b0e305044c6d"
      },
      "execution_count": null,
      "outputs": [
        {
          "output_type": "stream",
          "name": "stdout",
          "text": [
            "{'brand': 'Ford', 'model': 'Mustang', 'year': 1964}\n"
          ]
        }
      ]
    },
    {
      "cell_type": "code",
      "source": [
        "#another way is dict() function\n",
        "a_dict = {\"brand\": \"Ford\", \"model\": \"Mustang\", \"year\": 1964}\n",
        "new_dict = dict(a_dict)\n",
        "print(new_dict)"
      ],
      "metadata": {
        "colab": {
          "base_uri": "https://localhost:8080/"
        },
        "id": "TQ38K4WYo_Ry",
        "outputId": "40cd3a01-4ac5-4734-a370-ba33c47e8f55"
      },
      "execution_count": null,
      "outputs": [
        {
          "output_type": "stream",
          "name": "stdout",
          "text": [
            "{'brand': 'Ford', 'model': 'Mustang', 'year': 1964}\n"
          ]
        }
      ]
    },
    {
      "cell_type": "markdown",
      "source": [
        "##Nested Dictionaries"
      ],
      "metadata": {
        "id": "SFqPmtX5qxGj"
      }
    },
    {
      "cell_type": "code",
      "source": [
        "#a dictionary containing dictionaries is called nested dictionaries\n",
        "\n",
        "myfamily = {\"child1\":{\"name\":\"Emil\", \"year\":2004},\n",
        "            \"child2\":{\"name\" : \"Tobias\", \"year\" : 2007},\n",
        "            \"child3\":{\"name\" : \"Linus\", \"year\" : 2011}}\n"
      ],
      "metadata": {
        "id": "hHUhVrZaq4sa"
      },
      "execution_count": null,
      "outputs": []
    },
    {
      "cell_type": "code",
      "source": [
        "#You can add dictionaries into a new dictionaries\n",
        "\n",
        "child_1 = {\"name\" : \"Emil\", \"year\" : 2004}\n",
        "child_2 = {\"name\" : \"Tobias\", \"year\" : 2007}\n",
        "child_3 = {\"name\" : \"Linus\", \"year\" : 2011}\n",
        "\n",
        "childrens = {'child_1':child_1, 'child_2':child_2, 'child_3':child_3}\n",
        "print(childrens)"
      ],
      "metadata": {
        "colab": {
          "base_uri": "https://localhost:8080/"
        },
        "id": "b2RNJmvbub9f",
        "outputId": "40860ffe-ee1d-44b8-9a9d-65386c2d09cd"
      },
      "execution_count": null,
      "outputs": [
        {
          "output_type": "stream",
          "name": "stdout",
          "text": [
            "{'child_1': {'name': 'Emil', 'year': 2004}, 'child_2': {'name': 'Tobias', 'year': 2007}, 'child_3': {'name': 'Linus', 'year': 2011}}\n"
          ]
        }
      ]
    },
    {
      "cell_type": "code",
      "source": [
        "Method      \tDescription\n",
        "\n",
        "clear()\t      Removes all the elements from the dictionary\n",
        "copy()\t      Returns a copy of the dictionary\n",
        "fromkeys()\t  Returns a dictionary with the specified keys and value\n",
        "get()\t        Returns the value of the specified key\n",
        "items()\t      Returns a list containing a tuple for each key value pair\n",
        "keys()\t      Returns a list containing the dictionary's keys\n",
        "pop()\t        Removes the element with the specified key\n",
        "popitem()\t    Removes the last inserted key-value pair\n",
        "setdefault() \tReturns the value of the specified key. If the key does not exist: insert the key, with the specified value\n",
        "update()\t    Updates the dictionary with the specified key-value pairs\n",
        "values()\t    Returns a list of all the values in the dictionary"
      ],
      "metadata": {
        "id": "QcW_t-74vpEK"
      },
      "execution_count": null,
      "outputs": []
    }
  ]
}