{
  "nbformat": 4,
  "nbformat_minor": 0,
  "metadata": {
    "colab": {
      "provenance": [],
      "authorship_tag": "ABX9TyPA3iR5Ktd+52AjmYWuksI9",
      "include_colab_link": true
    },
    "kernelspec": {
      "name": "python3",
      "display_name": "Python 3"
    },
    "language_info": {
      "name": "python"
    }
  },
  "cells": [
    {
      "cell_type": "markdown",
      "metadata": {
        "id": "view-in-github",
        "colab_type": "text"
      },
      "source": [
        "<a href=\"https://colab.research.google.com/github/redwan005/BracU-CSE110-Notes/blob/main/Note_10_Lambda.ipynb\" target=\"_parent\"><img src=\"https://colab.research.google.com/assets/colab-badge.svg\" alt=\"Open In Colab\"/></a>"
      ]
    },
    {
      "cell_type": "markdown",
      "source": [
        "#Python Lambda"
      ],
      "metadata": {
        "id": "TlflyW4Ql9te"
      }
    },
    {
      "cell_type": "markdown",
      "source": [
        "A lambda function is a small anonymous function.\\\n",
        "A lambda function can take any number if arguments, but can only have one expression."
      ],
      "metadata": {
        "id": "S_4OmfjimCwM"
      }
    },
    {
      "cell_type": "markdown",
      "source": [
        "##Syntax\n",
        "lambda arguments : expression"
      ],
      "metadata": {
        "id": "oTy1npk4mt3O"
      }
    },
    {
      "cell_type": "code",
      "execution_count": null,
      "metadata": {
        "id": "Kud1BLTLjlT7",
        "colab": {
          "base_uri": "https://localhost:8080/"
        },
        "outputId": "40d2208c-fc26-4827-af63-e85bdd5a6737"
      },
      "outputs": [
        {
          "output_type": "stream",
          "name": "stdout",
          "text": [
            "15\n"
          ]
        }
      ],
      "source": [
        "#Add 10 to arguments :\n",
        "x = lambda a : a + 10\n",
        "print(x(5))"
      ]
    },
    {
      "cell_type": "code",
      "source": [
        "#Lambda functions can take any number of arguments :\n",
        "#multiply arguments a with b and return the result-\n",
        "\n",
        "\n",
        "x = lambda a, b : a * b\n",
        "print(x(5,6))\n",
        "\n",
        "#another example :\n",
        "a = lambda x, y, z : x + y + z\n",
        "print(a(10, 13, 17))"
      ],
      "metadata": {
        "colab": {
          "base_uri": "https://localhost:8080/"
        },
        "id": "d-eCbwFVuRda",
        "outputId": "3154727a-acdd-4f7b-eb96-b7af451f8bce"
      },
      "execution_count": null,
      "outputs": [
        {
          "output_type": "stream",
          "name": "stdout",
          "text": [
            "30\n",
            "40\n"
          ]
        }
      ]
    },
    {
      "cell_type": "markdown",
      "source": [
        "#Why Use Lambda Functions?\n",
        "The power of lambda is better shown when you use them as an anonymous function inside another function.\n",
        "\n",
        "Say you have a function definition that takes one argument, and that argument will be multiplied with an unknown number:"
      ],
      "metadata": {
        "id": "a9olTRT_uXa3"
      }
    },
    {
      "cell_type": "code",
      "source": [
        "def my_function(n) :\n",
        "    return lambda a : a + n\n",
        "my_doubler = my_function(2)\n",
        "print(my_doubler(11))"
      ],
      "metadata": {
        "colab": {
          "base_uri": "https://localhost:8080/"
        },
        "id": "YYTGnzaUutDB",
        "outputId": "2524053e-25f8-4ebd-fa51-4c2b9cb685ec"
      },
      "execution_count": null,
      "outputs": [
        {
          "output_type": "stream",
          "name": "stdout",
          "text": [
            "13\n"
          ]
        }
      ]
    },
    {
      "cell_type": "code",
      "source": [
        "#Or, use the same function to make a fucntion that always triples the number you send in :\n",
        "\n",
        "def my_function (n) :\n",
        "    return lambda a : a * n\n",
        "my_tripler = my_function(3)\n",
        "print(my_tripler(11))"
      ],
      "metadata": {
        "colab": {
          "base_uri": "https://localhost:8080/"
        },
        "id": "CGFQWN0Cv3CB",
        "outputId": "1c4047b5-9ba3-46b9-a1b8-3998b2db2088"
      },
      "execution_count": null,
      "outputs": [
        {
          "output_type": "stream",
          "name": "stdout",
          "text": [
            "33\n"
          ]
        }
      ]
    },
    {
      "cell_type": "code",
      "source": [
        "#Or, use the same function definition to make both functions, in the same program :\n",
        "\n",
        "def my_function(n) :\n",
        "    return lambda a : a * n\n",
        "\n",
        "my_doubler = my_function(2)\n",
        "my_tripler = my_function(3)\n",
        "\n",
        "print(my_doubler(11))\n",
        "print(my_tripler(11))"
      ],
      "metadata": {
        "colab": {
          "base_uri": "https://localhost:8080/"
        },
        "id": "Gg8n0SjPwqPq",
        "outputId": "24425414-f8ea-4847-b6c9-2caca21bf25c"
      },
      "execution_count": null,
      "outputs": [
        {
          "output_type": "stream",
          "name": "stdout",
          "text": [
            "22\n",
            "33\n"
          ]
        }
      ]
    }
  ]
}