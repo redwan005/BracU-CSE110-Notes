{
  "nbformat": 4,
  "nbformat_minor": 0,
  "metadata": {
    "colab": {
      "provenance": [],
      "include_colab_link": true
    },
    "kernelspec": {
      "name": "python3",
      "display_name": "Python 3"
    },
    "language_info": {
      "name": "python"
    }
  },
  "cells": [
    {
      "cell_type": "markdown",
      "metadata": {
        "id": "view-in-github",
        "colab_type": "text"
      },
      "source": [
        "<a href=\"https://colab.research.google.com/github/redwan005/BracU-CSE110-Notes/blob/main/Note_9_Functions.ipynb\" target=\"_parent\"><img src=\"https://colab.research.google.com/assets/colab-badge.svg\" alt=\"Open In Colab\"/></a>"
      ]
    },
    {
      "cell_type": "markdown",
      "source": [
        "#Functions"
      ],
      "metadata": {
        "id": "JrBwZ1RR4l-a"
      }
    },
    {
      "cell_type": "markdown",
      "source": [
        "A function is a block of code which only runs when it is called.\n",
        "\n",
        "You can pass data, known as parameters, into a function.\n",
        "\n",
        "A function can return data as a result."
      ],
      "metadata": {
        "id": "nkQtohHm4ukl"
      }
    },
    {
      "cell_type": "code",
      "execution_count": null,
      "metadata": {
        "id": "F5xX7mVZ4SjD"
      },
      "outputs": [],
      "source": [
        "#creating a function (In Python a function is defined using the def keyword:)\n",
        "#def likha lagbe then funtion name jetay normal variable er motoi erpor peranthesis mane bracket\n",
        "def my_function() :\n",
        "    print(\"Hi from a function\")"
      ]
    },
    {
      "cell_type": "code",
      "source": [
        "#calling a function(To call a function, use the function name followed by parenthesis:)\n",
        "\n",
        "def name(murgi) :\n",
        "    if murgi == 'redwan' :\n",
        "        return 'redwan'\n",
        "    else :\n",
        "        return 'rahat'\n",
        "    #function sesh\n",
        "\n",
        "name('murgi')"
      ],
      "metadata": {
        "colab": {
          "base_uri": "https://localhost:8080/",
          "height": 35
        },
        "id": "NyKgt9dt-OYm",
        "outputId": "24b8c45c-5c11-4e65-9ce4-8f142a24eccd"
      },
      "execution_count": null,
      "outputs": [
        {
          "output_type": "execute_result",
          "data": {
            "text/plain": [
              "'rahat'"
            ],
            "application/vnd.google.colaboratory.intrinsic+json": {
              "type": "string"
            }
          },
          "metadata": {},
          "execution_count": 20
        }
      ]
    },
    {
      "cell_type": "markdown",
      "source": [
        "##Arguments"
      ],
      "metadata": {
        "id": "DzNIku6HYJ9n"
      }
    },
    {
      "cell_type": "markdown",
      "source": [
        "Information can be passed into functions as arguments.\n",
        "\n",
        "Arguments are specified after the function name, inside the parentheses. You can add as many arguments as you want, just separate them with a comma.\n",
        "\n",
        "The following example has a function with one argument (fname). When the function is called, we pass along a first name, which is used inside the function to print the full name:"
      ],
      "metadata": {
        "id": "J3tjTurLYPfS"
      }
    },
    {
      "cell_type": "code",
      "source": [
        "def my_function(fname) :    #(fname) is the argument\n",
        "    print(fname + \" Refsnes\")\n",
        "\n",
        "my_function(\"Emil\")\n",
        "my_function(\"Tobias\")\n",
        "my_function(\"Linus\")"
      ],
      "metadata": {
        "id": "SMCbkk8l-eME",
        "colab": {
          "base_uri": "https://localhost:8080/"
        },
        "outputId": "4d4720c1-3076-4ebb-e263-36cfe3f5d237"
      },
      "execution_count": null,
      "outputs": [
        {
          "output_type": "stream",
          "name": "stdout",
          "text": [
            "Emil Refsnes\n",
            "Tobias Refsnes\n",
            "Linus Refsnes\n"
          ]
        }
      ]
    },
    {
      "cell_type": "markdown",
      "source": [
        "##Parameters or Arguments?\n",
        "The terms parameter and argument can be used for the same thing: information that are passed into a function.\n",
        "\n",
        "From a function's perspective:\n",
        "\n",
        "A parameter is the variable listed inside the parentheses in the function definition.\n",
        "\n",
        "An argument is the value that is sent to the function when it is called."
      ],
      "metadata": {
        "id": "k4YNOwlb32KZ"
      }
    },
    {
      "cell_type": "markdown",
      "source": [
        "##Number of Arguments\n",
        "By default, a function must be called with the correct number of arguments. Meaning that if your function expects 2 arguments, you have to call the function with 2 arguments, not more, and not less."
      ],
      "metadata": {
        "id": "Hh484oRxbyLK"
      }
    },
    {
      "cell_type": "code",
      "source": [
        "#This function expects 2 arguments and gets 2 arguments :\n",
        "def my_func(f_name, l_name) :\n",
        "    print(f_name + \" \" + l_name)\n",
        "\n",
        "my_func(\"Emil\", \"Refsnes\")"
      ],
      "metadata": {
        "id": "tX7GPD-sWST0",
        "colab": {
          "base_uri": "https://localhost:8080/"
        },
        "outputId": "bea8614b-05fd-41a4-eaa9-fea1e76249fb"
      },
      "execution_count": null,
      "outputs": [
        {
          "output_type": "stream",
          "name": "stdout",
          "text": [
            "Emil Refsnes\n"
          ]
        }
      ]
    },
    {
      "cell_type": "markdown",
      "source": [
        "##Arbitrary Arguments, *args :\n",
        "\n",
        "If you do not know how many arguments that will be passed into your function, add a * before the parameter name in the function definition.\n",
        "\n",
        "This way the function will receive a tuple of arguments, and can access the items accordingly:\n",
        "\n",
        "Note : Arbitrary Arguments are often shortened to *args in Python documentations."
      ],
      "metadata": {
        "id": "iIuPx7CadXH5"
      }
    },
    {
      "cell_type": "code",
      "source": [
        "#If the number of arguments is unknown, add a * before the parameter name :\n",
        "\n",
        "def my_function(*kids) :\n",
        "  print(kids[2])\n",
        "  print(type(kids))\n",
        "\n",
        "my_function(\"Emil\", \"Tobias\",\"Linus\")"
      ],
      "metadata": {
        "id": "1tjqxbs74DQf",
        "colab": {
          "base_uri": "https://localhost:8080/"
        },
        "outputId": "7027c377-a41d-4ea3-801f-99b805b55c7c"
      },
      "execution_count": null,
      "outputs": [
        {
          "output_type": "stream",
          "name": "stdout",
          "text": [
            "Linus\n",
            "<class 'tuple'>\n"
          ]
        }
      ]
    },
    {
      "cell_type": "markdown",
      "source": [
        "##Keyword Arguments : (also known as kwargs)\n",
        "You can also send arguments with the key = value syntax.\n",
        "\n",
        "This way the order of the arguments does not matter."
      ],
      "metadata": {
        "id": "7gDPU9rQen43"
      }
    },
    {
      "cell_type": "code",
      "source": [
        "def my_function(child_3, child_2, child_1) :\n",
        "    print(\"The youngest child is \" + child_3)\n",
        "\n",
        "my_function(child_1 = \"Emil\", child_2 = \"tobias\", child_3 = \"Linus\")"
      ],
      "metadata": {
        "id": "xchWc8zze5mT",
        "colab": {
          "base_uri": "https://localhost:8080/"
        },
        "outputId": "e935f62d-250a-4c88-8378-627d325b36c5"
      },
      "execution_count": null,
      "outputs": [
        {
          "output_type": "stream",
          "name": "stdout",
          "text": [
            "The youngest child is Linus\n"
          ]
        }
      ]
    },
    {
      "cell_type": "code",
      "source": [
        "#a = 5\n",
        "#b = 3\n",
        "#c = 2\n",
        "def red(a, b, c) :\n",
        "    return a - b\n",
        "red(b = 3,c = 2,a = 5)"
      ],
      "metadata": {
        "colab": {
          "base_uri": "https://localhost:8080/"
        },
        "id": "HoaOd5DPWW2c",
        "outputId": "4582e3a9-c166-4f54-8786-687863a41f7f"
      },
      "execution_count": null,
      "outputs": [
        {
          "output_type": "execute_result",
          "data": {
            "text/plain": [
              "2"
            ]
          },
          "metadata": {},
          "execution_count": 24
        }
      ]
    },
    {
      "cell_type": "markdown",
      "source": [
        "##Arbitrary Keyword Arguments, **kwargs\n",
        "If you do not know how many keyword arguments that will be passed into your function, add two asterisk: ** before the parameter name in the function definition.\n",
        "\n",
        "This way the function will receive a dictionary of arguments, and can access the items accordingly"
      ],
      "metadata": {
        "id": "eUBKiNOazihB"
      }
    },
    {
      "cell_type": "code",
      "source": [
        "def my_function(**child) :\n",
        "\n",
        "my_function(first_name = \"Tobias\", last_name = \"Rafsnes\", middle_name = 'abul')"
      ],
      "metadata": {
        "colab": {
          "base_uri": "https://localhost:8080/"
        },
        "id": "G21AMRVizg2t",
        "outputId": "ae797695-9fb6-4a25-f0e4-59bb86b6f64a"
      },
      "execution_count": null,
      "outputs": [
        {
          "output_type": "stream",
          "name": "stdout",
          "text": [
            "{'first_name': 'Tobias', 'last_name': 'Rafsnes', 'middle_name': 'abul'}\n"
          ]
        }
      ]
    },
    {
      "cell_type": "markdown",
      "source": [
        "##Default Parameter Value\n",
        "The following example shows how to use a default parameter value.\n",
        "\n",
        "If we call the function without argument, it uses the default value:"
      ],
      "metadata": {
        "id": "OeCRcnQg58AL"
      }
    },
    {
      "cell_type": "code",
      "source": [
        "def my_function(country = \"Norway\") :\n",
        "  print(\"the name of my country is \" + country)\n",
        "\n",
        "my_function(\"Bangladesh\")\n",
        "my_function()"
      ],
      "metadata": {
        "colab": {
          "base_uri": "https://localhost:8080/"
        },
        "id": "KB1J1exN4jtM",
        "outputId": "899ff039-04a4-4371-cbe2-19134dde80ac"
      },
      "execution_count": null,
      "outputs": [
        {
          "output_type": "stream",
          "name": "stdout",
          "text": [
            "the name of my country is Bangladesh\n",
            "the name of my country is Norway\n"
          ]
        }
      ]
    },
    {
      "cell_type": "markdown",
      "source": [
        "#Passing a List as an Argument :\n",
        "You can send any data types of argument to a function (string, number, list, dictionary etc.), and it will be treated as the same data type inside the function.\n",
        "\n",
        "E.g. if you send a List as an argument, it will still be a List when it reaches the function"
      ],
      "metadata": {
        "id": "9kNB_h3l6uge"
      }
    },
    {
      "cell_type": "code",
      "source": [
        "def my_function(fruits) :\n",
        "    for count in fruits :\n",
        "        print(count)\n",
        "\n",
        "fruits = [\"apple\", \"banana\", \"cherry\", \"kiwi\", \"orange\", \"watermelon\", \"jackfruit\", \"mango\"]\n",
        "my_function(fruits)\n",
        "\n",
        "\n",
        "#you can also do this :\n",
        "def my_func(parameter) :\n",
        "    for i in parameter :\n",
        "        print(i)\n",
        "\n",
        "flowers = (\"rose\", \"lily\", \"sunflower\", \"candelina\", \"jasmin\")\n",
        "my_func(flowers)"
      ],
      "metadata": {
        "colab": {
          "base_uri": "https://localhost:8080/"
        },
        "id": "a8DqJ6Bs6t4K",
        "outputId": "2f7605bb-e7b6-48a4-fb97-03ea749cdcca"
      },
      "execution_count": null,
      "outputs": [
        {
          "output_type": "stream",
          "name": "stdout",
          "text": [
            "apple\n",
            "banana\n",
            "cherry\n",
            "kiwi\n",
            "orange\n",
            "watermelon\n",
            "jackfruit\n",
            "mango\n",
            "rose\n",
            "lily\n",
            "sunflower\n",
            "candelina\n",
            "jasmin\n"
          ]
        }
      ]
    },
    {
      "cell_type": "markdown",
      "source": [
        "##Return Values\n",
        "To let a function return a value, use the return statement:"
      ],
      "metadata": {
        "id": "qVXYWGOobmmG"
      }
    },
    {
      "cell_type": "code",
      "source": [
        "def my_function(x) :\n",
        "    return 5 * x\n",
        "\n",
        "print(my_function(3))"
      ],
      "metadata": {
        "colab": {
          "base_uri": "https://localhost:8080/"
        },
        "id": "mbgc9jNSVVN7",
        "outputId": "bb0c3985-15b5-4ed9-de78-85a40560ed27"
      },
      "execution_count": null,
      "outputs": [
        {
          "output_type": "stream",
          "name": "stdout",
          "text": [
            "15\n"
          ]
        }
      ]
    },
    {
      "cell_type": "markdown",
      "source": [
        "##The pass Statement\n",
        "function definitions cannot be empty, but if you for some reason have a function definition with no content, put in the pass statement to avoid getting an error."
      ],
      "metadata": {
        "id": "P4qTzDelcqO0"
      }
    },
    {
      "cell_type": "code",
      "source": [
        "def pass_function() :\n",
        "    pass"
      ],
      "metadata": {
        "id": "xhYQwxLecprS"
      },
      "execution_count": null,
      "outputs": []
    },
    {
      "cell_type": "markdown",
      "source": [
        "##Recursion :\n",
        "Python also accepts function recursion, which means a defined function can call itself.\\\n",
        "Recursion is a common mathematical and programming concept. It means that a function calls itself. This has their benifit of meaning that you can loop through data to reach result.\\\n",
        "# The developer should be very careful with resucion as it can be quite easy to slip into writing a function which never terminates, or one that uses excess amounts of memory or process power. However, when written correctly recuision can be a ery effective and mathematically-elegant approch to programming.\\\n",
        "In this example, tri_recursion() is a function that we have defined to call itself(\"recurse\"). We use the 'k' variable as the data, which decrements(-1) every time we recuse. The recusion ends when the condition is not greater than 0(i.e. when it is 0).\\\n",
        "To a new developer it can take some time to work out how wxactly this works, best way to find out is by testing and modifying it."
      ],
      "metadata": {
        "id": "du6b9MVwdGTq"
      }
    },
    {
      "cell_type": "code",
      "source": [
        "def tri_recusion(k) :\n",
        "    if (k > 0) :\n",
        "        result = k + tri_recusion(k - 1)\n",
        "        print(result)\n",
        "    else :\n",
        "        result = 0\n",
        "    return result\n",
        "\n",
        "print(\"\\nRecusion Example Results\") #\\n dile ekta line niche print hoy\n",
        "tri_recusion(6)"
      ],
      "metadata": {
        "colab": {
          "base_uri": "https://localhost:8080/"
        },
        "id": "8ZQmeS1Cc19C",
        "outputId": "3025d2dc-f1f3-4ae8-976a-804880a4528f"
      },
      "execution_count": null,
      "outputs": [
        {
          "output_type": "stream",
          "name": "stdout",
          "text": [
            "\n",
            "Recusion Example Results\n",
            "1\n",
            "3\n",
            "6\n",
            "10\n",
            "15\n",
            "21\n"
          ]
        },
        {
          "output_type": "execute_result",
          "data": {
            "text/plain": [
              "21"
            ]
          },
          "metadata": {},
          "execution_count": 15
        }
      ]
    },
    {
      "cell_type": "markdown",
      "source": [],
      "metadata": {
        "id": "ICbc9pO3t_C3"
      }
    },
    {
      "cell_type": "code",
      "source": [],
      "metadata": {
        "id": "dP-xVuVbt93Z"
      },
      "execution_count": null,
      "outputs": []
    }
  ]
}