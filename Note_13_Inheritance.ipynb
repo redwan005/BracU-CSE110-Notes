{
  "nbformat": 4,
  "nbformat_minor": 0,
  "metadata": {
    "colab": {
      "provenance": [],
      "authorship_tag": "ABX9TyP93Cq0IhpTLC2GV+Y+hWUX",
      "include_colab_link": true
    },
    "kernelspec": {
      "name": "python3",
      "display_name": "Python 3"
    },
    "language_info": {
      "name": "python"
    }
  },
  "cells": [
    {
      "cell_type": "markdown",
      "metadata": {
        "id": "view-in-github",
        "colab_type": "text"
      },
      "source": [
        "<a href=\"https://colab.research.google.com/github/redwan005/BracU-CSE110-Notes/blob/main/Note_13_Inheritance.ipynb\" target=\"_parent\"><img src=\"https://colab.research.google.com/assets/colab-badge.svg\" alt=\"Open In Colab\"/></a>"
      ]
    },
    {
      "cell_type": "markdown",
      "source": [
        "#Python Inheritance\n",
        "Inheritance allows us to define a class that inharits all the methods and properties from another class.\\\n",
        "Parent class is the class being inherited from, also called base class.\\\n",
        "Child class is  called inherits from another class, also called derived class."
      ],
      "metadata": {
        "id": "l_OWX8JFBiZM"
      }
    },
    {
      "cell_type": "markdown",
      "source": [
        "##Create a Parent Class\n",
        "Any class can be a parent class, so, the syntax is the same as creating any other class :"
      ],
      "metadata": {
        "id": "V5vKc-0E8A8T"
      }
    },
    {
      "cell_type": "code",
      "execution_count": null,
      "metadata": {
        "id": "eL-j_Jlb-zo9",
        "colab": {
          "base_uri": "https://localhost:8080/"
        },
        "outputId": "554ce7d5-fe9d-4caa-8817-c4d8602fb932"
      },
      "outputs": [
        {
          "output_type": "stream",
          "name": "stdout",
          "text": [
            "Redwan Rahman\n"
          ]
        }
      ],
      "source": [
        "#Create a class named person, with firstname and lastname properties, and a printname method :\n",
        "class person :\n",
        "     def __init__(self, first_name, last_name) :\n",
        "          self.f_name = first_name\n",
        "          self.l_name = last_name\n",
        "     def print_name(self) :\n",
        "          print(self.f_name, self.l_name)\n",
        "x = person(\"Redwan\", \"Rahman\")\n",
        "x.print_name()"
      ]
    },
    {
      "cell_type": "markdown",
      "source": [
        "#Create a Child Class\n",
        "To create a child class that inherits the functionality from another class, send the parent class as a parameter when creating the child class :"
      ],
      "metadata": {
        "id": "714QSUthZ5RP"
      }
    },
    {
      "cell_type": "code",
      "source": [
        "#Create a class named student, which will inherit the properties and methods from the person class :\n",
        "class student(person) :\n",
        "    pass"
      ],
      "metadata": {
        "id": "3Z4QYWkEaVoB"
      },
      "execution_count": null,
      "outputs": []
    }
  ]
}