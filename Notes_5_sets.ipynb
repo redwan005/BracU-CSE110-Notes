{
  "nbformat": 4,
  "nbformat_minor": 0,
  "metadata": {
    "colab": {
      "provenance": [],
      "authorship_tag": "ABX9TyMhObVhNfNmx1uqkWwhBqTq",
      "include_colab_link": true
    },
    "kernelspec": {
      "name": "python3",
      "display_name": "Python 3"
    },
    "language_info": {
      "name": "python"
    }
  },
  "cells": [
    {
      "cell_type": "markdown",
      "metadata": {
        "id": "view-in-github",
        "colab_type": "text"
      },
      "source": [
        "<a href=\"https://colab.research.google.com/github/redwan005/BracU-CSE110-Notes/blob/main/Notes_5_sets.ipynb\" target=\"_parent\"><img src=\"https://colab.research.google.com/assets/colab-badge.svg\" alt=\"Open In Colab\"/></a>"
      ]
    },
    {
      "cell_type": "markdown",
      "source": [
        "###Sets\n",
        "-unchangable,, unordered can remove items and add new items\\\n",
        "-doesn't alow duplicate items\\\n",
        "-written with second brackets\\"
      ],
      "metadata": {
        "id": "6Mn22D1JIPDq"
      }
    },
    {
      "cell_type": "markdown",
      "source": [
        "##As the items come randomly so theres no indexing"
      ],
      "metadata": {
        "id": "C2kacBFZOX7d"
      }
    },
    {
      "cell_type": "code",
      "execution_count": null,
      "metadata": {
        "colab": {
          "base_uri": "https://localhost:8080/"
        },
        "id": "cn8u3-k3F1mK",
        "outputId": "19920778-7800-4c17-f50b-213886ba48af"
      },
      "outputs": [
        {
          "output_type": "stream",
          "name": "stdout",
          "text": [
            "3\n"
          ]
        }
      ],
      "source": [
        "#length of a Set :\n",
        "the_set = {\"apple\", \"banana\", \"cherry\"}\n",
        "print(len(the_set))"
      ]
    },
    {
      "cell_type": "markdown",
      "source": [
        "##Access Items"
      ],
      "metadata": {
        "id": "LStgAgv0LMlx"
      }
    },
    {
      "cell_type": "code",
      "source": [
        "#You cannot access items in a set by referring to an index or a key.\n",
        "#But you can loop through the set items using a for loop, or ask if a specified value is present in a set, by using the in keyword.\n",
        "the_set = {\"apple\", \"banana\", \"cherry\"}\n",
        "for count in the_set :\n",
        "    print(count)\n",
        "\n",
        "print(\"banana\" in the_set)"
      ],
      "metadata": {
        "colab": {
          "base_uri": "https://localhost:8080/"
        },
        "id": "RKJfmzYYLRca",
        "outputId": "5b84e1e7-45a3-4715-94f2-ba81477b4582"
      },
      "execution_count": null,
      "outputs": [
        {
          "output_type": "stream",
          "name": "stdout",
          "text": [
            "apple\n",
            "cherry\n",
            "banana\n",
            "True\n"
          ]
        }
      ]
    },
    {
      "cell_type": "code",
      "source": [
        "#Once a set is created, you cannot change its items, but you can add new items."
      ],
      "metadata": {
        "id": "8GuFrMV2MNXT"
      },
      "execution_count": null,
      "outputs": []
    },
    {
      "cell_type": "markdown",
      "source": [
        "##Add Items"
      ],
      "metadata": {
        "id": "FcZHeYDNMb_s"
      }
    },
    {
      "cell_type": "code",
      "source": [
        "#to add an item to a set, use the add() method :\n",
        "the_set = {\"apple\", \"banana\", \"cherry\"}\n",
        "the_set.add(\"orange\")\n",
        "print(the_set)"
      ],
      "metadata": {
        "colab": {
          "base_uri": "https://localhost:8080/"
        },
        "id": "Y4XUbAEEMhO9",
        "outputId": "718bf8e9-54e6-44ba-feba-741a63dcea6f"
      },
      "execution_count": null,
      "outputs": [
        {
          "output_type": "stream",
          "name": "stdout",
          "text": [
            "{'apple', 'cherry', 'banana', 'orange'}\n"
          ]
        }
      ]
    },
    {
      "cell_type": "code",
      "source": [
        "#or use update() method :\n",
        "the_set = {\"apple\", \"banana\", \"cherry\"}\n",
        "add_set = {\"mango\", \"papaya\"}\n",
        "the_set.update(add_set)\n",
        "print(the_set)"
      ],
      "metadata": {
        "colab": {
          "base_uri": "https://localhost:8080/"
        },
        "id": "wtHGoebhN7bS",
        "outputId": "d5e7fbc4-8f74-4316-cd8e-dc279239da22"
      },
      "execution_count": null,
      "outputs": [
        {
          "output_type": "stream",
          "name": "stdout",
          "text": [
            "{'cherry', 'mango', 'banana', 'apple', 'papaya'}\n"
          ]
        }
      ]
    },
    {
      "cell_type": "code",
      "source": [
        "#Add any iterable :\n",
        "the_set = {\"apple\", \"banana\", \"cherry\"}\n",
        "add_list = [\"kiwi\", \"orange\"]\n",
        "the_set.update(add_list)\n",
        "print(the_set)"
      ],
      "metadata": {
        "colab": {
          "base_uri": "https://localhost:8080/"
        },
        "id": "5aahsZhvOjTW",
        "outputId": "58ca3cc6-d830-482a-e9d0-e53579ca2665"
      },
      "execution_count": null,
      "outputs": [
        {
          "output_type": "stream",
          "name": "stdout",
          "text": [
            "{'cherry', 'banana', 'orange', 'kiwi', 'apple'}\n"
          ]
        }
      ]
    },
    {
      "cell_type": "markdown",
      "source": [
        "##Rremove items"
      ],
      "metadata": {
        "id": "arhkkTioPZKJ"
      }
    },
    {
      "cell_type": "code",
      "source": [
        "#Use remove() methos\n",
        "the_set = {\"apple\", \"banana\",\"cherry\"}\n",
        "the_set.remove(\"banana\")  #jodi item exist na koer taile error dekhabe\n",
        "print(the_set)"
      ],
      "metadata": {
        "colab": {
          "base_uri": "https://localhost:8080/"
        },
        "id": "YurSJkJ_PbkB",
        "outputId": "b9cdbc73-bd5b-48e6-fa92-52ab35c6980a"
      },
      "execution_count": null,
      "outputs": [
        {
          "output_type": "stream",
          "name": "stdout",
          "text": [
            "{'apple', 'cherry'}\n"
          ]
        }
      ]
    },
    {
      "cell_type": "code",
      "source": [
        "#Or use discard() method :\n",
        "the_set = {\"apple\", \"banana\", \"cherry\"}\n",
        "the_set.discard(\"apple\")\n",
        "print(the_set)"
      ],
      "metadata": {
        "colab": {
          "base_uri": "https://localhost:8080/"
        },
        "id": "XSoeTrvlQEmd",
        "outputId": "0968fbb1-4db5-45e6-a3b0-6d7ffdb9cfc1"
      },
      "execution_count": null,
      "outputs": [
        {
          "output_type": "stream",
          "name": "stdout",
          "text": [
            "{'cherry', 'banana'}\n"
          ]
        }
      ]
    },
    {
      "cell_type": "code",
      "source": [
        "#TO remove the last item use pop() method :\n",
        "#but as set items are unordered so when u see pop u won't be sure wgich item gets removed\n",
        "the_set = {\"apple\", \"banana\", \"cherry\"}\n",
        "the_set.pop()\n",
        "print(the_set)"
      ],
      "metadata": {
        "colab": {
          "base_uri": "https://localhost:8080/"
        },
        "id": "M9dfKcBuQiZX",
        "outputId": "9cd34265-cc9d-4278-f79d-159ef6bc224a"
      },
      "execution_count": null,
      "outputs": [
        {
          "output_type": "stream",
          "name": "stdout",
          "text": [
            "{'cherry', 'banana'}\n"
          ]
        }
      ]
    },
    {
      "cell_type": "code",
      "source": [
        "#You can use clear() method to empty a set\n",
        "the_set = {\"apple\", \"banana\", \"cherry\"}\n",
        "the_set.clear()\n",
        "print(the_set)"
      ],
      "metadata": {
        "colab": {
          "base_uri": "https://localhost:8080/"
        },
        "id": "N6UOuvm8RMq4",
        "outputId": "19d93ba1-055e-45c3-8922-f4cab91ebb69"
      },
      "execution_count": null,
      "outputs": [
        {
          "output_type": "stream",
          "name": "stdout",
          "text": [
            "set()\n"
          ]
        }
      ]
    },
    {
      "cell_type": "code",
      "source": [
        "#Using del keyword will completely remove the set\n",
        "the_set = {\"apple\", \"banana\", \"cherry\"}\n",
        "del the_set\n",
        "print(the_set)\n",
        "#as it doesn't exist it'll print error"
      ],
      "metadata": {
        "id": "3BovOJFFRiSg"
      },
      "execution_count": null,
      "outputs": []
    },
    {
      "cell_type": "markdown",
      "source": [
        "##Loop Sets"
      ],
      "metadata": {
        "id": "wMhxxx7vSLjW"
      }
    },
    {
      "cell_type": "code",
      "source": [
        "#use for loop :\n",
        "\n",
        "the_set = {\"apple\", \"banana\", \"cherry\"}\n",
        "for count in the_set :\n",
        "    print(count)"
      ],
      "metadata": {
        "colab": {
          "base_uri": "https://localhost:8080/"
        },
        "id": "Pk2TaYMwSNE7",
        "outputId": "5728733e-75d5-4d66-ba5d-2b70a411f778"
      },
      "execution_count": null,
      "outputs": [
        {
          "output_type": "stream",
          "name": "stdout",
          "text": [
            "apple\n",
            "cherry\n",
            "banana\n"
          ]
        }
      ]
    },
    {
      "cell_type": "markdown",
      "source": [
        "##joint sets"
      ],
      "metadata": {
        "id": "KrlBMNh_SbkB"
      }
    },
    {
      "cell_type": "code",
      "source": [
        "#join two sets :\n",
        "#use union method (it will create a new set)\n",
        "set_1 = {\"a\", \"b\", \"c\"}\n",
        "set_2 = {1, 2, 3}\n",
        "new_set = set_1.union(set_2)\n",
        "print(new_set)"
      ],
      "metadata": {
        "colab": {
          "base_uri": "https://localhost:8080/"
        },
        "id": "uksc3MkISdZG",
        "outputId": "1a05b94a-121b-46f2-c334-e440afc9a552"
      },
      "execution_count": null,
      "outputs": [
        {
          "output_type": "stream",
          "name": "stdout",
          "text": [
            "{1, 2, 'a', 3, 'c', 'b'}\n"
          ]
        }
      ]
    },
    {
      "cell_type": "code",
      "source": [
        "#use update to insert new items from another set :\n",
        "set_1 = {\"a\", \"b\", \"c\"}\n",
        "set_2 = {1, 2, 3}\n",
        "set_1.update(set_2)\n",
        "print(set_1)"
      ],
      "metadata": {
        "colab": {
          "base_uri": "https://localhost:8080/"
        },
        "id": "Qyl8vEFHSurl",
        "outputId": "e2040684-1f72-499f-f2b6-4c05e37bf3b3"
      },
      "execution_count": null,
      "outputs": [
        {
          "output_type": "stream",
          "name": "stdout",
          "text": [
            "{1, 2, 'a', 3, 'c', 'b'}\n"
          ]
        }
      ]
    },
    {
      "cell_type": "code",
      "source": [
        "#Keep ONLY the Duplicates\n",
        "#to keep the items that exist in both sets :\n",
        "a_set = {\"apple\", \"banana\", \"cherry\"}\n",
        "b_set = {\"google\", 2, \"apple\"}\n",
        "\n",
        "new_set = a_set.intersection(b_set) #etay new variable neoya lagbe cz eta new set banay\n",
        "#or\n",
        "a_set.intersection_update(b_set)  #new set banay na so no need for any new variable\n",
        "print(a_set)"
      ],
      "metadata": {
        "colab": {
          "base_uri": "https://localhost:8080/"
        },
        "id": "XhBGkXJVT7bE",
        "outputId": "71d0b734-caa8-4811-df8a-7b535a1d9728"
      },
      "execution_count": null,
      "outputs": [
        {
          "output_type": "stream",
          "name": "stdout",
          "text": [
            "{'apple'}\n"
          ]
        }
      ]
    },
    {
      "cell_type": "code",
      "source": [
        "#Keep all but not the duplicated :\n",
        "a_set = {\"apple\", \"banana\", \"cherry\"}\n",
        "b_set = {\"google\", 2, \"apple\"}\n",
        "a_set.symmetric_difference_update(b_set)  #no need for new variable cz it doesn't create a new set\n",
        "#or\n",
        "new_list = a_set.symmetric_difference(b_set) #creates a new set so need a new variable\n",
        "print(a_set)"
      ],
      "metadata": {
        "colab": {
          "base_uri": "https://localhost:8080/"
        },
        "id": "-4wlPrY5UuS4",
        "outputId": "24ed18ad-ff7a-42da-e303-c284ce4a7056"
      },
      "execution_count": null,
      "outputs": [
        {
          "output_type": "stream",
          "name": "stdout",
          "text": [
            "{'cherry', 2, 'google', 'banana'}\n"
          ]
        }
      ]
    },
    {
      "cell_type": "markdown",
      "source": [
        "##Set Methods"
      ],
      "metadata": {
        "id": "ZO2NAX-D1TyA"
      }
    },
    {
      "cell_type": "code",
      "source": [
        "Method      \t          Description\n",
        "add()\t                  Adds an element to the set\n",
        "clear()\t                Removes all the elements from the set\n",
        "copy()\t                Returns a copy of the set\n",
        "difference()\t          Returns a set containing the difference between two or more sets\n",
        "difference_update()\t    Removes the items in this set that are also included in another, specified set\n",
        "discard()\t              Remove the specified item\n",
        "intersection()\t        Returns a set, that is the intersection of two other sets\n",
        "intersection_update()\t  Removes the items in this set that are not present in other, specified set(s)\n",
        "isdisjoint()\t          Returns whether two sets have a intersection or not\n",
        "issubset()\t            Returns whether another set contains this set or not\n",
        "issuperset()\t          Returns whether this set contains another set or not\n",
        "pop()\t                  Removes an element from the set\n",
        "remove()\t              Removes the specified element\n",
        "symmetric_difference()\tReturns a set with the symmetric differences of two sets\n",
        "symmetric_difference_update()\t  inserts the symmetric differences from this set and another\n",
        "union()\t                Return a set containing the union of sets\n",
        "update()\t              Update the set with the union of this set and others"
      ],
      "metadata": {
        "id": "zBbwkvVY1Sb6"
      },
      "execution_count": null,
      "outputs": []
    }
  ]
}