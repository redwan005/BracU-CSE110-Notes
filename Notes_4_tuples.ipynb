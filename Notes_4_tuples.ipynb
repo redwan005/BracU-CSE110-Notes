{
  "cells": [
    {
      "cell_type": "markdown",
      "metadata": {
        "id": "view-in-github",
        "colab_type": "text"
      },
      "source": [
        "<a href=\"https://colab.research.google.com/github/redwan005/BracU-CSE110-Notes/blob/main/Notes_4_tuples.ipynb\" target=\"_parent\"><img src=\"https://colab.research.google.com/assets/colab-badge.svg\" alt=\"Open In Colab\"/></a>"
      ]
    },
    {
      "cell_type": "markdown",
      "metadata": {
        "id": "rB_TCIdmikcz"
      },
      "source": [
        "#Tuple :\n",
        "-used for storing multiple items in a variable\\\n",
        "-it is orderd and unchangable\\\n",
        "-written with round brackets\\\n",
        "-allows duplicate values\\\n",
        "-items are indexed\\\n",
        "-items can be any data type"
      ]
    },
    {
      "cell_type": "markdown",
      "metadata": {
        "id": "9Zdo6XnkxiIx"
      },
      "source": []
    },
    {
      "cell_type": "code",
      "execution_count": null,
      "metadata": {
        "id": "mrHPbAxQvwPi"
      },
      "outputs": [],
      "source": [
        "#while creating tuple with one item you have to put a coma in the end\n",
        "right :\n",
        "a_tuple = (\"apple\",)\n",
        "wrong :\n",
        "b_tuple = (\"apple\")"
      ]
    },
    {
      "cell_type": "markdown",
      "metadata": {
        "id": "o5hqEMCU5tgC"
      },
      "source": [
        "##Access tuple items"
      ]
    },
    {
      "cell_type": "code",
      "execution_count": null,
      "metadata": {
        "colab": {
          "base_uri": "https://localhost:8080/"
        },
        "id": "AT-X5tkM3wF2",
        "outputId": "ec4a6280-6bbb-4b4b-df84-dee6d78cb41d"
      },
      "outputs": [
        {
          "name": "stdout",
          "output_type": "stream",
          "text": [
            "cherry\n",
            "cherry\n"
          ]
        }
      ],
      "source": [
        "main_tuple = (\"apple\", \"banana\", \"cherry\")\n",
        "#by refering index number:\n",
        "print(main_tuple[2])\n",
        "\n",
        "#negative indexing :\n",
        "print(main_tuple[-1])"
      ]
    },
    {
      "cell_type": "code",
      "execution_count": null,
      "metadata": {
        "colab": {
          "base_uri": "https://localhost:8080/"
        },
        "id": "QDzC5_aw6Os7",
        "outputId": "b0d042d1-510c-4488-d45d-6cb3d0cf90e6"
      },
      "outputs": [
        {
          "name": "stdout",
          "output_type": "stream",
          "text": [
            "('cherry', 'orange', 'kiwi')\n",
            "('orange', 'kiwi', 'melon')\n"
          ]
        }
      ],
      "source": [
        "#range of indexing :\n",
        "main_tuple = (\"apple\", \"banana\", \"cherry\", \"orange\", \"kiwi\", \"melon\", \"mango\")\n",
        "print(main_tuple[2:5])\n",
        "#the search will start at index 2(included) and end at index 5(not included)\n",
        "\n",
        "#first e index number na dile index zero theke shuru hobe\n",
        "#last e index na dile sesh porjonto jabe\n",
        "\n",
        "#range of Negative indexing\n",
        "print(main_tuple[-4:-1])"
      ]
    },
    {
      "cell_type": "code",
      "execution_count": null,
      "metadata": {
        "id": "ZS32dcmA78_q"
      },
      "outputs": [],
      "source": [
        "#checking if the item exists :\n",
        "the_tuple = (\"apple\", \"banana\", \"cherry\")\n",
        "if \"apple\" in the_tuple :\n",
        "    print(\"Yes, the item is available.\")"
      ]
    },
    {
      "cell_type": "markdown",
      "metadata": {
        "id": "USreaR8i9u0R"
      },
      "source": [
        "##Update Tuple"
      ]
    },
    {
      "cell_type": "code",
      "execution_count": null,
      "metadata": {
        "colab": {
          "base_uri": "https://localhost:8080/"
        },
        "id": "2wrrjyd39zIh",
        "outputId": "894356fe-01f2-4247-a1b1-74cb94baaf04"
      },
      "outputs": [
        {
          "name": "stdout",
          "output_type": "stream",
          "text": [
            "('apple', 'kiwi', 'cherry')\n"
          ]
        }
      ],
      "source": [
        "#Update Tuple Values :\n",
        "a_tuple = (\"apple\", \"banana\", \"cherry\")\n",
        "x_tuple = list(a_tuple)\n",
        "x_tuple[1] =\"kiwi\"\n",
        "a_tuple = tuple(x_tuple)\n",
        "print(a_tuple)"
      ]
    },
    {
      "cell_type": "code",
      "execution_count": null,
      "metadata": {
        "colab": {
          "base_uri": "https://localhost:8080/"
        },
        "id": "GckkBRpaBp9_",
        "outputId": "a29f8319-dd63-40e2-eefd-d271402cdc7d"
      },
      "outputs": [
        {
          "name": "stdout",
          "output_type": "stream",
          "text": [
            "('apple', 'banana', 'cherry', 'orange')\n",
            "('apple', 'banana', 'cherry', 'orange', 'grapes')\n"
          ]
        }
      ],
      "source": [
        "#Add Items:\n",
        "#1 converting\n",
        "#jehetu tuple unchangable; so first list e convert kore then append kore then abar tuple e convert kora\n",
        "main_tuple = (\"apple\", \"banana\", \"cherry\")\n",
        "new = list(main_tuple)\n",
        "new.append(\"orange\")\n",
        "main_tuple = tuple(new)\n",
        "print(main_tuple)\n",
        "\n",
        "#2 adding tuple to a tuple\n",
        "a_tuple = (\"apple\", \"banana\", \"cherry\")\n",
        "b_tuple = (\"orange\", \"grapes\")\n",
        "new_tuple = a_tuple + b_tuple\n",
        "print(new_tuple)"
      ]
    },
    {
      "cell_type": "code",
      "execution_count": null,
      "metadata": {
        "colab": {
          "base_uri": "https://localhost:8080/"
        },
        "id": "cG0dw0c9Denk",
        "outputId": "a8c1adce-e6f6-4c90-e4e2-af4fd69f8057"
      },
      "outputs": [
        {
          "name": "stdout",
          "output_type": "stream",
          "text": [
            "('banana', 'cherry')\n"
          ]
        }
      ],
      "source": [
        "#Remove Items:\n",
        "#Convert to lisy then again in tuple\n",
        "\n",
        "main_tuple = (\"apple\" ,\"banana\", \"cherry\")\n",
        "convert = list(main_tuple)\n",
        "convert.remove(\"apple\")\n",
        "main_tuple = tuple(convert)\n",
        "print(main_tuple)\n",
        "\n",
        "#completely tuple ta delete korte :\n",
        "this_tuple = (\"apple\", \"banana\",\"cherry\")\n",
        "del this_tuple\n",
        "print(this_tuple) #output will be error cz this tuple dos not exist anymore"
      ]
    },
    {
      "cell_type": "markdown",
      "metadata": {
        "id": "lriWwjYlW0J4"
      },
      "source": [
        "##Unpack Tuple"
      ]
    },
    {
      "cell_type": "code",
      "execution_count": null,
      "metadata": {
        "colab": {
          "base_uri": "https://localhost:8080/"
        },
        "id": "3IBYznDOFi7I",
        "outputId": "a72da990-e45a-459e-9355-b47db23c7680"
      },
      "outputs": [
        {
          "name": "stdout",
          "output_type": "stream",
          "text": [
            "apple\n",
            "banana\n",
            "cherry\n"
          ]
        }
      ],
      "source": [
        "#in Python, we are also allowed to extract the values back into variables. This is called \"unpacking\":\n",
        "\n",
        "fruits = (\"apple\",\"banana\", \"cherry\")\n",
        "(green, yellow, red) = fruits     #item gula equal korano\n",
        "print(green)\n",
        "print(yellow)\n",
        "print(red)"
      ]
    },
    {
      "cell_type": "code",
      "execution_count": null,
      "metadata": {
        "colab": {
          "background_save": true
        },
        "id": "ENqG7YYkrmYi",
        "outputId": "3dc37ace-8978-4d62-80dc-6df7786767f3"
      },
      "outputs": [
        {
          "name": "stdout",
          "output_type": "stream",
          "text": [
            "apple\n",
            "banana\n",
            "['cherry', 'kiwi', 'pineapple']\n",
            "apple\n",
            "['banana', 'cherry', 'kiwi']\n",
            "strawberry\n"
          ]
        }
      ],
      "source": [
        "#Using Asterisk *\n",
        "fruits = (\"apple\", \"banana\", \"cherry\", \"kiwi\", \"pineapple\")\n",
        "(green, yellow, *red) = fruits\n",
        "print(green)\n",
        "print(yellow)\n",
        "print(red)\n",
        "\n",
        "#If the asterisk is added to another variable name than the last, Python will assign values to the variable until the number of values left matches the number of variables left\n",
        "fruits = (\"apple\",\"banana\", \"cherry\", \"kiwi\", \"strawberry\")\n",
        "(green, *yellow, red) = fruits\n",
        "print(green)\n",
        "print(yellow)\n",
        "print(red)"
      ]
    },
    {
      "cell_type": "markdown",
      "source": [
        "##Loop Tuples"
      ],
      "metadata": {
        "id": "Ezg0c75zBTzF"
      }
    },
    {
      "cell_type": "code",
      "execution_count": null,
      "metadata": {
        "id": "-TKiRgpI2veK",
        "colab": {
          "base_uri": "https://localhost:8080/"
        },
        "outputId": "2855eb51-32e9-41db-8f1c-d0916112c8be"
      },
      "outputs": [
        {
          "output_type": "stream",
          "name": "stdout",
          "text": [
            "apple\n",
            "banana\n",
            "cherry\n"
          ]
        }
      ],
      "source": [
        "#lop through the index numbers:\n",
        "a_tuple = (\"apple\", \"banana\", \"cherry\")\n",
        "for count in range(len(a_tuple)) :\n",
        "    print(a_tuple[count])"
      ]
    },
    {
      "cell_type": "code",
      "source": [
        "#using while loop:\n",
        "a_tuple = (\"apple\", \"banana\",\"cherry\")\n",
        "count = 0\n",
        "while count < len(a_tuple) :\n",
        "    print(a_tuple[count])\n",
        "    count = count + 1"
      ],
      "metadata": {
        "colab": {
          "base_uri": "https://localhost:8080/"
        },
        "id": "QHKNT-ioDYi4",
        "outputId": "35ab7ba4-0172-496e-c6ba-ca9ffed97466"
      },
      "execution_count": null,
      "outputs": [
        {
          "output_type": "stream",
          "name": "stdout",
          "text": [
            "apple\n",
            "banana\n",
            "cherry\n"
          ]
        }
      ]
    },
    {
      "cell_type": "markdown",
      "source": [
        "##join Tuple"
      ],
      "metadata": {
        "id": "en4co8FsDxsq"
      }
    },
    {
      "cell_type": "code",
      "source": [
        "#join two tuple :\n",
        "\n",
        "tuple_1 = (\"a\", \"b\", \"c\")\n",
        "tuple_2 = (1, 2, 3)\n",
        "\n",
        "new_tuple = tuple_1 + tuple_2\n",
        "print(new_tuple)"
      ],
      "metadata": {
        "colab": {
          "base_uri": "https://localhost:8080/"
        },
        "id": "o2p3rpFvD09j",
        "outputId": "1463c905-2ed2-445c-9df3-a692f9f53d24"
      },
      "execution_count": null,
      "outputs": [
        {
          "output_type": "stream",
          "name": "stdout",
          "text": [
            "('a', 'b', 'c', 1, 2, 3)\n"
          ]
        }
      ]
    },
    {
      "cell_type": "code",
      "source": [
        "#multiply Tuple :\n",
        "tulpe_1 = (\"a\", \"b\", \"c\")\n",
        "new_tuple = tuple_1 * 2\n",
        "print(new_tuple)\n",
        "#it just makes the items double"
      ],
      "metadata": {
        "colab": {
          "base_uri": "https://localhost:8080/"
        },
        "id": "K6tv1Z1FEKwA",
        "outputId": "479d3179-05e0-4ae1-a305-63aefa82ca95"
      },
      "execution_count": null,
      "outputs": [
        {
          "output_type": "stream",
          "name": "stdout",
          "text": [
            "('a', 'b', 'c', 'a', 'b', 'c')\n"
          ]
        }
      ]
    },
    {
      "cell_type": "markdown",
      "source": [
        "##Puthon - Tuple Methods :\n",
        "count()     :\\\n",
        "Returns the number of times a specified value occurs in a tuple\\\n",
        "index()\t    :\\\n",
        "Searches the tuple for a specified value and returns the position of where it was found"
      ],
      "metadata": {
        "id": "YYxwxJOXEwed"
      }
    },
    {
      "cell_type": "code",
      "source": [
        "print('test')"
      ],
      "metadata": {
        "colab": {
          "base_uri": "https://localhost:8080/"
        },
        "id": "cYFX2bmBT-B-",
        "outputId": "d2ca12db-4c0c-42e2-8540-adbca9c31e61"
      },
      "execution_count": null,
      "outputs": [
        {
          "output_type": "stream",
          "name": "stdout",
          "text": [
            "test\n"
          ]
        }
      ]
    }
  ],
  "metadata": {
    "colab": {
      "provenance": [],
      "authorship_tag": "ABX9TyPw8qyvIKe8Mr+u8d/s/92l",
      "include_colab_link": true
    },
    "kernelspec": {
      "display_name": "Python 3",
      "name": "python3"
    },
    "language_info": {
      "name": "python"
    }
  },
  "nbformat": 4,
  "nbformat_minor": 0
}