{
  "nbformat": 4,
  "nbformat_minor": 0,
  "metadata": {
    "colab": {
      "provenance": [],
      "include_colab_link": true
    },
    "kernelspec": {
      "name": "python3",
      "display_name": "Python 3"
    },
    "language_info": {
      "name": "python"
    }
  },
  "cells": [
    {
      "cell_type": "markdown",
      "metadata": {
        "id": "view-in-github",
        "colab_type": "text"
      },
      "source": [
        "<a href=\"https://colab.research.google.com/github/redwan005/BracU-CSE110-Notes/blob/main/Note_3_list.ipynb\" target=\"_parent\"><img src=\"https://colab.research.google.com/assets/colab-badge.svg\" alt=\"Open In Colab\"/></a>"
      ]
    },
    {
      "cell_type": "markdown",
      "source": [
        "Python Lists"
      ],
      "metadata": {
        "id": "Q_L6L3o-NEW5"
      }
    },
    {
      "cell_type": "code",
      "source": [
        "#It is also possible to use the list() constructor when creating a new list.\n",
        "\n",
        "the_list = list((\"apple\", \"banana\", \"cherry\"))\n",
        "print(the_list)"
      ],
      "metadata": {
        "colab": {
          "base_uri": "https://localhost:8080/"
        },
        "id": "d2PYWVS0NYl2",
        "outputId": "20ad1adf-66b2-4323-b8ff-7b9b4469fd15"
      },
      "execution_count": null,
      "outputs": [
        {
          "output_type": "stream",
          "name": "stdout",
          "text": [
            "['apple', 'banana', 'cherry']\n"
          ]
        }
      ]
    },
    {
      "cell_type": "code",
      "source": [
        "#Python Collections (Arrays)\n",
        "\n",
        "#four collection data type\n",
        "LIST : ordered, changable, allows duplicate members\n",
        "Tuple : ordered, unchangable, allows duplicate members, can remove/add items\n",
        "Set :  unordered, unchangable, uniundexed, no duplicate members\n",
        "Dictionary : ordered, changable, no duplicate members"
      ],
      "metadata": {
        "id": "Q8ECgAWU4aoh"
      },
      "execution_count": null,
      "outputs": []
    },
    {
      "cell_type": "markdown",
      "source": [
        "#Access Items"
      ],
      "metadata": {
        "id": "gtiNplBZGiFt"
      }
    },
    {
      "cell_type": "code",
      "source": [
        "#Access Items\n",
        "a_list = [\"apple\", \"banana\", \"cherry\"]\n",
        "print(a_list[1])\n",
        "\n",
        "#negative indexing\n",
        "b_list = [\"apple\", \"banana\", \"cherry\"]\n",
        "print(b_list[-1])\n",
        "\n",
        "#Range of Indexing (will create a new list)\n",
        "a_list = [\"apple\", \"banana\", \"cherry\", \"orange\", \"kiwi\", \"melon\", \"mango\"]\n",
        "print(a_list[2:5])\n",
        "print(a_list[:4])    #shurute faka mane zero\n",
        "print(a_list[2:])    #seshe faka mane last index porjonto\n",
        "print(a_list[-4:-1]) #pichon dik theke count and last er theke ekta kom\n"
      ],
      "metadata": {
        "colab": {
          "base_uri": "https://localhost:8080/"
        },
        "id": "ZKe1SyWP-x_f",
        "outputId": "4d664d0d-1960-49e0-d39b-adca59d901e7"
      },
      "execution_count": null,
      "outputs": [
        {
          "output_type": "stream",
          "name": "stdout",
          "text": [
            "banana\n",
            "cherry\n",
            "['cherry', 'orange', 'kiwi']\n",
            "['apple', 'banana', 'cherry', 'orange']\n",
            "['cherry', 'orange', 'kiwi', 'melon', 'mango']\n",
            "['orange', 'kiwi', 'melon']\n"
          ]
        }
      ]
    },
    {
      "cell_type": "code",
      "source": [
        "#Check if item exists :\n",
        "a_list = [\"apple\", \"banana\", \"cherry\"]\n",
        "if \"apple\" in a_list :\n",
        "    print(\"yes, 'apple' is in the fruits list\")\n",
        ""
      ],
      "metadata": {
        "colab": {
          "base_uri": "https://localhost:8080/"
        },
        "id": "Hx5NY8cZBJQu",
        "outputId": "bce41220-64a3-430d-a991-af2823c67d0f"
      },
      "execution_count": null,
      "outputs": [
        {
          "output_type": "stream",
          "name": "stdout",
          "text": [
            "yes, 'apple' is in the fruits list\n"
          ]
        }
      ]
    },
    {
      "cell_type": "markdown",
      "source": [
        "#Changing List items"
      ],
      "metadata": {
        "id": "9K0OOrM2GuJu"
      }
    },
    {
      "cell_type": "code",
      "source": [
        "#Changing item value\n",
        "\n",
        "#to change a perticular item value\n",
        "a_list = [\"apple\", \"banana\", \"cherry\"]\n",
        "a_list[1] = \"olive\"\n",
        "print(a_list)\n",
        "\n",
        "#to change a range of item values\n",
        "b_list = [\"apple\", \"banana\", \"cherry\", \"orange\", \"kiwi\", \"mango\"]\n",
        "b_list [1:3] = [\"watermelon\", \"pinaple\"]\n",
        "print(b_list)\n",
        "\n",
        "#jodi item er theke beshi insert kori,\n",
        "c_list = [\"apple\", \"banana\", \"cherry\"]\n",
        "c_list[1:2] = [\"olive\", \"watermelon\"]\n",
        "print(c_list)"
      ],
      "metadata": {
        "colab": {
          "base_uri": "https://localhost:8080/"
        },
        "id": "CHyAFZ7yAJlH",
        "outputId": "d559b925-b75a-48a0-ac9d-7e845fdfb453"
      },
      "execution_count": null,
      "outputs": [
        {
          "output_type": "stream",
          "name": "stdout",
          "text": [
            "['apple', 'olive', 'cherry']\n",
            "['apple', 'watermelon', 'pinaple', 'orange', 'kiwi', 'mango']\n",
            "['apple', 'olive', 'watermelon', 'cherry']\n"
          ]
        }
      ]
    },
    {
      "cell_type": "markdown",
      "source": [
        "#Adding LIst Items"
      ],
      "metadata": {
        "id": "HUMb1FXHGz1j"
      }
    },
    {
      "cell_type": "code",
      "source": [
        "#Insert Items\n",
        "a_list = [\"apple\", \"banana\", \"cherry\"]\n",
        "a_list.insert(2, \"watermelon\")    #number diye indexing and key diye new value bujhano hoiche\n",
        "print(a_list)\n",
        "\n",
        "#Append Items\n",
        "b_list = [\"apple\", \"banana\", \"cherry\"]\n",
        "b_list.append(\"orange\")           #always lastei add kore\n",
        "print(b_list)\n",
        "\n",
        "#Extend List(to append elements from another list/tuple/set/dictionary to the current list)\n",
        "c_list = [\"apple\", \"banana\", \"cherry\"]\n",
        "x_list = [\"mango\", \"pineapple\", \"papaya\"]\n",
        "c_list.extend(x_list)\n",
        "print(c_list)\n",
        "c_list = [\"apple\", \"banana\", \"cherry\"]\n",
        "x_tuple = (\"kiwi\", \"orange\")\n",
        "c_list.extend(x_tuple)\n",
        "\\\n",
        "|print(c_list)"
      ],
      "metadata": {
        "id": "ZCGWKtIcCJYx"
      },
      "execution_count": null,
      "outputs": []
    },
    {
      "cell_type": "markdown",
      "source": [
        "#Removing List Items"
      ],
      "metadata": {
        "id": "UeqxvXEoG6tK"
      }
    },
    {
      "cell_type": "code",
      "source": [
        "#removing specified item\n",
        "a_list = [\"apple\", \"banana\", \"cherry\"]\n",
        "a_list.remove(\"banana\")\n",
        "print(a_list)\n",
        "\n",
        "\n",
        "#removing specified index\n",
        "a_list = [\"apple\", \"banana\", \"cherry\"]\n",
        "a_list.pop(1)     #specify na kore pop keyword use korle last item remove hobe\n",
        "print(a_list)\n",
        "#you can also use del keyword\n",
        "a_list = [\"apple\", \"banana\", \"cherry\"]\n",
        "del a_list[0]      #index number na dile pura list delete kore dibe\n",
        "print(a_list)\n",
        "\n",
        "\n",
        "#to clear all list items use clear method\n",
        "a_list = [\"apple\", \"banana\", \"cherry\"]\n",
        "a_list.clear()\n",
        "print(a_list)"
      ],
      "metadata": {
        "id": "zhzVh3fLC9Ph",
        "colab": {
          "base_uri": "https://localhost:8080/"
        },
        "outputId": "559b820e-7be9-433a-c39c-f0b3a6a4d2ea"
      },
      "execution_count": null,
      "outputs": [
        {
          "output_type": "stream",
          "name": "stdout",
          "text": [
            "['apple', 'cherry']\n",
            "['apple', 'cherry']\n",
            "['banana', 'cherry']\n",
            "[]\n"
          ]
        }
      ]
    },
    {
      "cell_type": "markdown",
      "source": [
        "##LOOP Lists"
      ],
      "metadata": {
        "id": "-VeQwz6BygdT"
      }
    },
    {
      "cell_type": "code",
      "source": [
        "##FOR LOOP\n",
        "#print all items in the lsit, one by one\n",
        "this_list = [\"apple\", \"banana\", \"cherry\"]\n",
        "for count in this_list :\n",
        "    print(count)\n",
        "\n",
        "#or\n",
        "a_list = [\"ami\", \"tumi\", \"she\"]\n",
        "for count in range(len(a_list)) :\n",
        "    print(a_list[count])"
      ],
      "metadata": {
        "colab": {
          "base_uri": "https://localhost:8080/"
        },
        "id": "l57HOni_ydVX",
        "outputId": "371f798e-964a-4973-a39e-533c2764d251"
      },
      "execution_count": null,
      "outputs": [
        {
          "output_type": "stream",
          "name": "stdout",
          "text": [
            "apple\n",
            "banana\n",
            "cherry\n",
            "ami\n",
            "tumi\n",
            "she\n"
          ]
        }
      ]
    },
    {
      "cell_type": "code",
      "source": [
        "##WHILE LOOP\n",
        "#printing all the index number\n",
        "a_list = [\"apple\", \"banana\", \"cherry\"]\n",
        "count = 0\n",
        "while count < len(a_list) :\n",
        "    print(a_list[count])\n",
        "    count = count + 1"
      ],
      "metadata": {
        "id": "Vlp1NVnoy7s4",
        "colab": {
          "base_uri": "https://localhost:8080/"
        },
        "outputId": "85ff33ec-3b50-4d22-f4fe-475679cb5154"
      },
      "execution_count": null,
      "outputs": [
        {
          "output_type": "stream",
          "name": "stdout",
          "text": [
            "apple\n",
            "banana\n",
            "cherry\n"
          ]
        }
      ]
    },
    {
      "cell_type": "code",
      "source": [
        "#LOOPING USING LIST COMPREHENSION\n",
        "#it's a short hand for loop that will print all items in a list\n",
        "example_list = [\"apple\", \"banana\", \"cherry\"]\n",
        "[print(count) for count in example_list]"
      ],
      "metadata": {
        "colab": {
          "base_uri": "https://localhost:8080/"
        },
        "id": "dANWPbXu5EjO",
        "outputId": "9425f64a-83b3-444c-b2ac-d49cecc30e11"
      },
      "execution_count": null,
      "outputs": [
        {
          "output_type": "stream",
          "name": "stdout",
          "text": [
            "apple\n",
            "banana\n",
            "cherry\n"
          ]
        },
        {
          "output_type": "execute_result",
          "data": {
            "text/plain": [
              "[None, None, None]"
            ]
          },
          "metadata": {},
          "execution_count": 11
        }
      ]
    },
    {
      "cell_type": "markdown",
      "source": [
        "##List Comprehension"
      ],
      "metadata": {
        "id": "yD460rehAgJZ"
      }
    },
    {
      "cell_type": "code",
      "source": [
        "#a shorter syntex to create a new list based on the values of an existing list\n",
        "fruits = [\"apple\", \"banana\", \"cherry\", \"kiwi\", \"mango\"]\n",
        "new_list = []\n",
        "\n",
        "for count in fruits :\n",
        "    if \"a\" in count :\n",
        "        new_list.append(count)\n",
        "print(new_list)\n",
        "\n",
        "#same ei jinishtar easy way-\n",
        "fruits = [\"apple\", \"banana\", \"cherry\", \"kiwi\", \"mango\"]\n",
        "new_list = [count for count in fruits if \"a\" in count]\n",
        "print(new_list)"
      ],
      "metadata": {
        "colab": {
          "base_uri": "https://localhost:8080/"
        },
        "id": "sjo1Vvzq_M4l",
        "outputId": "4912d504-3d75-41ca-d6f8-675c6d75795d"
      },
      "execution_count": null,
      "outputs": [
        {
          "output_type": "stream",
          "name": "stdout",
          "text": [
            "['apple', 'banana', 'mango']\n",
            "['apple', 'banana', 'mango']\n"
          ]
        }
      ]
    },
    {
      "cell_type": "code",
      "source": [
        "from typing import Iterable\n",
        "#Syntex\n",
        "new_list = [expression for item in iterable if condition == True]\n"
      ],
      "metadata": {
        "id": "ewoEbsG4evzl"
      },
      "execution_count": null,
      "outputs": []
    },
    {
      "cell_type": "markdown",
      "source": [
        "##Python - Sort Lists"
      ],
      "metadata": {
        "id": "7199cbISrqg2"
      }
    },
    {
      "cell_type": "code",
      "source": [
        "#Sort list Alphanumerically, Ascebding, by default:\n",
        "#Case sensitive, so captital ones will be first\n",
        "a_list = [\"orange\", \"mango\", \"iwi\", \"pineapple\", \"banana\"]\n",
        "a_list.sort()\n",
        "print(a_list)\n",
        "\n",
        "b_list = [100, 50, 65, 82, 23]\n",
        "b_list.sort()\n",
        "print(b_list)"
      ],
      "metadata": {
        "id": "9sqpdLhYBPhk",
        "colab": {
          "base_uri": "https://localhost:8080/"
        },
        "outputId": "a20346e1-e4fd-4044-90cc-c1598e856382"
      },
      "execution_count": null,
      "outputs": [
        {
          "output_type": "stream",
          "name": "stdout",
          "text": [
            "['banana', 'kiwi', 'mango', 'orange', 'pineapple']\n",
            "[23, 50, 65, 82, 100]\n"
          ]
        }
      ]
    },
    {
      "cell_type": "code",
      "source": [
        "#Sort Descending :\n",
        "\n",
        "a_list = [\"orange\", \"mango\", \"kiwi\", \"pineapple\", \"banana\"]\n",
        "a_list.sort(reverse = True)\n",
        "print(a_list)\n",
        "\n",
        "b_list = [100, 50, 65, 82, 23]\n",
        "b_list.sort(reverse = True)\n",
        "print(b_list)"
      ],
      "metadata": {
        "colab": {
          "base_uri": "https://localhost:8080/"
        },
        "id": "IX8NApZ-WJ_6",
        "outputId": "9b1d5470-1463-4dc1-f261-613ee1c80e07"
      },
      "execution_count": null,
      "outputs": [
        {
          "output_type": "stream",
          "name": "stdout",
          "text": [
            "['pineapple', 'orange', 'mango', 'kiwi', 'banana']\n",
            "[100, 82, 65, 50, 23]\n"
          ]
        }
      ]
    },
    {
      "cell_type": "code",
      "source": [
        "#Customize Sort Function :\n",
        "\n",
        "def my_function (n) :\n",
        "    return abs(n-50)\n",
        "\n",
        "a_list = [100, 50, 65, 82, 23]\n",
        "a_list.sort(key = my_function)\n",
        "print(a_list)"
      ],
      "metadata": {
        "colab": {
          "base_uri": "https://localhost:8080/"
        },
        "id": "ApyvDtiuWr0W",
        "outputId": "d0abe368-f3ed-4213-ab09-1005c71007bd"
      },
      "execution_count": null,
      "outputs": [
        {
          "output_type": "stream",
          "name": "stdout",
          "text": [
            "[50, 65, 23, 82, 100]\n"
          ]
        }
      ]
    },
    {
      "cell_type": "code",
      "source": [
        "#Case Insensitive Sort :\n",
        "#same as basic sorting"
      ],
      "metadata": {
        "id": "uw5Lkp24b9mF"
      },
      "execution_count": null,
      "outputs": []
    },
    {
      "cell_type": "code",
      "source": [
        "#Reverse Order :\n",
        "#main list er item gula ulta vabe thake"
      ],
      "metadata": {
        "id": "XDo8o0b-n-q-"
      },
      "execution_count": null,
      "outputs": []
    },
    {
      "cell_type": "markdown",
      "source": [
        "##Copy Lists\n",
        "\n",
        "> [Indented block](https://)\n",
        "\n"
      ],
      "metadata": {
        "id": "_Cm9fyZ1omRy"
      }
    },
    {
      "cell_type": "code",
      "source": [
        "#use \".copy()\" method\n",
        "a_list = [\"apple\", \"banana\", \"cherry\"]\n",
        "b_list = a_list.copy()\n",
        "print(b_list)\n",
        "\n",
        "#OR\n",
        "#use \"list()\" method\n",
        "a_list = [\"apple\", \"banana\", \"cherry\", \"pineapple\"]\n",
        "new_list = list(a_list)\n",
        "print(new_list)"
      ],
      "metadata": {
        "colab": {
          "base_uri": "https://localhost:8080/"
        },
        "id": "CN8Dmdbyolgm",
        "outputId": "1d4453d6-259d-454a-d8e7-3b1fab1eb61a"
      },
      "execution_count": null,
      "outputs": [
        {
          "output_type": "stream",
          "name": "stdout",
          "text": [
            "['apple', 'banana', 'cherry']\n",
            "['apple', 'banana', 'cherry', 'pineapple']\n"
          ]
        }
      ]
    },
    {
      "cell_type": "markdown",
      "source": [
        "##Join Lists"
      ],
      "metadata": {
        "id": "OsgSX2FNrGAs"
      }
    },
    {
      "cell_type": "code",
      "source": [
        "#join two lists :\n",
        "list_1 = [\"a\", \"b\", \"c\"]\n",
        "list_2 = [1, 2, 3]\n",
        "list_r = list_1 + list_2\n",
        "print(list_r)"
      ],
      "metadata": {
        "colab": {
          "base_uri": "https://localhost:8080/"
        },
        "id": "2Eev-JGWrJve",
        "outputId": "6152de60-8711-47e7-d6c2-511711860638"
      },
      "execution_count": null,
      "outputs": [
        {
          "output_type": "stream",
          "name": "stdout",
          "text": [
            "['a', 'b', 'c', 1, 2, 3]\n"
          ]
        }
      ]
    },
    {
      "cell_type": "code",
      "source": [
        "#you can also use appending\n",
        "list_1 = [\"a\", \"b\", \"c\"]\n",
        "list_2 = [1, 2, 3]\n",
        "\n",
        "for count in list_2 :\n",
        "    list_1.append(count) #append er mddhe count likhsi kn? ar eta kivabe kaj kore?\n",
        "print(list_1)\n",
        "\n",
        "#OR\n",
        "#use extend() method\n",
        "list_1 = [\"a\", \"b\", \"c\"]\n",
        "list_2 = [1, 2, 3]\n",
        "\n",
        "list_1.extend(list_2)\n",
        "print(list_1)"
      ],
      "metadata": {
        "colab": {
          "base_uri": "https://localhost:8080/"
        },
        "id": "CrhV09EJsqjd",
        "outputId": "58f77db6-bebb-4ce7-b18c-5fa5d3b15b63"
      },
      "execution_count": null,
      "outputs": [
        {
          "output_type": "stream",
          "name": "stdout",
          "text": [
            "['a', 'b', 'c', 1, 2, 3]\n",
            "['a', 'b', 'c', 1, 2, 3]\n"
          ]
        }
      ]
    },
    {
      "cell_type": "code",
      "source": [
        "Method\t       Description\n",
        "\n",
        "append()\t     Adds an element at the end of the list\n",
        "clear()\t       Removes all the elements from the list\n",
        "copy()\t       Returns a copy of the list\n",
        "count()\t       Returns the number of elements with the specified value\n",
        "extend()\t     Add the elements of a list (or any iterable), to the end of the current list\n",
        "index()\t       Returns the index of the first element with the specified value\n",
        "insert()\t     Adds an element at the specified position\n",
        "pop()\t         Removes the element at the specified position\n",
        "remove()\t     Removes the item with the specified value\n",
        "reverse()\t     Reverses the order of the list\n",
        "sort()\t       Sorts the list"
      ],
      "metadata": {
        "id": "kYYUSlGRtsUf"
      },
      "execution_count": null,
      "outputs": []
    },
    {
      "cell_type": "code",
      "source": [
        "a = int(input(\"Dao 1 : \"))\n",
        "b = int(input(\"Dao 2 : \"))\n",
        "def nafis(a, b) :\n",
        "  if a < b :\n",
        "    return True\n",
        "print(nafis(a, b))"
      ],
      "metadata": {
        "colab": {
          "base_uri": "https://localhost:8080/"
        },
        "id": "rQc9JKOynfD4",
        "outputId": "3787dafe-f0f2-4fc2-d864-307de75e25a5"
      },
      "execution_count": null,
      "outputs": [
        {
          "name": "stdout",
          "output_type": "stream",
          "text": [
            "Dao 1 : 1\n"
          ]
        }
      ]
    }
  ]
}