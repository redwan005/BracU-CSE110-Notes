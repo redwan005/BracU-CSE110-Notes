{
  "nbformat": 4,
  "nbformat_minor": 0,
  "metadata": {
    "colab": {
      "provenance": [],
      "authorship_tag": "ABX9TyNyFU1h8I9Uvdov8zdCXWG9",
      "include_colab_link": true
    },
    "kernelspec": {
      "name": "python3",
      "display_name": "Python 3"
    },
    "language_info": {
      "name": "python"
    }
  },
  "cells": [
    {
      "cell_type": "markdown",
      "metadata": {
        "id": "view-in-github",
        "colab_type": "text"
      },
      "source": [
        "<a href=\"https://colab.research.google.com/github/redwan005/BracU-CSE110-Notes/blob/main/notes_1_var%2Cdata_type%2Cnum%2Cstring.ipynb\" target=\"_parent\"><img src=\"https://colab.research.google.com/assets/colab-badge.svg\" alt=\"Open In Colab\"/></a>"
      ]
    },
    {
      "cell_type": "markdown",
      "metadata": {
        "id": "rd7G9UE3FmTG"
      },
      "source": [
        "Variables"
      ]
    },
    {
      "cell_type": "code",
      "metadata": {
        "id": "hy8msCJHyt2r",
        "colab": {
          "base_uri": "https://localhost:8080/"
        },
        "outputId": "a7037c14-745f-41b9-a004-a3a617391e02"
      },
      "source": [
        "fruits = [\"apple\", \"banana\", \"cherry\"]\n",
        "x, y, z = fruits\n",
        "print(x)\n",
        "print(y)\n",
        "print(z)"
      ],
      "execution_count": null,
      "outputs": [
        {
          "output_type": "stream",
          "name": "stdout",
          "text": [
            "apple\n",
            "banana\n",
            "cherry\n"
          ]
        }
      ]
    },
    {
      "cell_type": "code",
      "metadata": {
        "id": "jOQhsnfKvumh",
        "colab": {
          "base_uri": "https://localhost:8080/"
        },
        "outputId": "63893f6d-ba3a-4f2b-ea91-2ffd31f49d28"
      },
      "source": [
        "x = 'awsome'  #global variabl(can be used in or out of afunction and anywhere)\n",
        "def my_func() :\n",
        "    x = \"fantastic\"   #local function(can only be used in this function)\n",
        "    print(\"Python is \" + x)\n",
        "my_func()\n",
        "print(\"Python is \" + x)"
      ],
      "execution_count": null,
      "outputs": [
        {
          "output_type": "stream",
          "name": "stdout",
          "text": [
            "Python is fantastic\n",
            "Python is awsome\n"
          ]
        }
      ]
    },
    {
      "cell_type": "code",
      "metadata": {
        "colab": {
          "base_uri": "https://localhost:8080/"
        },
        "id": "dW3mmgke_qFA",
        "outputId": "ea86c6fa-36e4-4d33-94ca-8e3679b3518f"
      },
      "source": [
        "#how to make a local variable to global?\n",
        "#use global keywaord\n",
        "def my_func() :\n",
        "    global x\n",
        "    x = \"fantastic\"\n",
        "my_func()\n",
        "print(\"Python is \" + x)"
      ],
      "execution_count": null,
      "outputs": [
        {
          "output_type": "stream",
          "name": "stdout",
          "text": [
            "Python is fantastic\n"
          ]
        }
      ]
    },
    {
      "cell_type": "markdown",
      "metadata": {
        "id": "UJrBo-D2FuyO"
      },
      "source": [
        "##Data Types"
      ]
    },
    {
      "cell_type": "code",
      "metadata": {
        "id": "6lnDrBdIy05v"
      },
      "source": [
        "Text Type:\tstr\n",
        "Numeric Types:\tint, float, complex\n",
        "Sequence Types:\tlist, tuple, range\n",
        "Mapping Type:\tdict\n",
        "Set Types:\tset, frozenset\n",
        "Boolean Type:\tbool\n",
        "Binary Types:\tbytes, bytearray, memoryview"
      ],
      "execution_count": null,
      "outputs": []
    },
    {
      "cell_type": "markdown",
      "metadata": {
        "id": "05cjD5klyf3I"
      },
      "source": [
        "Python Numbers"
      ]
    },
    {
      "cell_type": "code",
      "metadata": {
        "id": "PDPMWPCSBsDq"
      },
      "source": [
        "x = str(\"Hello World\")\t                           str\n",
        "x = int(20)\t                                        int\t        number #(without decimals)\n",
        "x = float(20.5)\t                                    float\t      number #(with decimal, can contain an 'e')\n",
        "x = complex(1j)\t                                    complex\t    number #(written eith a \"j\" as thr imaginary part)\n",
        "x = list([\"apple\", \"banana\", \"cherry\"])\t      list\n",
        "x = tuple((\"apple\", \"banana\", \"cherry\"))\t    tuple\n",
        "x = range(6)\t                                      range\n",
        "x = dict(name=\"John\", age=36)\t                   dict\n",
        "x = set((\"apple\", \"banana\", \"cherry\"))\t      set\n",
        "x = frozenset((\"apple\", \"banana\", \"cherry\"))\tfrozenset\n",
        "x = bool(5)\t                                       bool\n",
        "x = bytes(5)\t                                      bytes\n",
        "x = bytearray(5)\t                                  bytearray\n",
        "x = memoryview(bytes(5))\t                          memoryview"
      ],
      "execution_count": null,
      "outputs": []
    },
    {
      "cell_type": "code",
      "metadata": {
        "colab": {
          "base_uri": "https://localhost:8080/"
        },
        "id": "gysnQUbYIB1M",
        "outputId": "d22c8a71-c77e-4a88-8977-3fe2987b42f8"
      },
      "source": [
        "#to convert any number to other type just do this\n",
        "x = 1\n",
        "y = 3.7\n",
        "z = 1j\n",
        "a = float(x)\n",
        "b = int(y)\n",
        "c = complex(x)\n",
        "print(a)\n",
        "print(b)\n",
        "print(c)\n",
        "print(type(a))\n",
        "print(type(b))\n",
        "print(type(c))\n",
        "#complex number can't be changed into any other number type"
      ],
      "execution_count": null,
      "outputs": [
        {
          "output_type": "stream",
          "name": "stdout",
          "text": [
            "1.0\n",
            "3\n",
            "(1+0j)\n",
            "<class 'float'>\n",
            "<class 'int'>\n",
            "<class 'complex'>\n"
          ]
        }
      ]
    },
    {
      "cell_type": "code",
      "metadata": {
        "colab": {
          "base_uri": "https://localhost:8080/"
        },
        "id": "eQS4iNxFJhx_",
        "outputId": "a9c0d272-cc9c-4d63-ca02-df209ebe2fe8"
      },
      "source": [
        "#to get a random number from 1 to 9\n",
        "import random\n",
        "print(random.randrange(1, 10))"
      ],
      "execution_count": null,
      "outputs": [
        {
          "output_type": "stream",
          "name": "stdout",
          "text": [
            "6\n"
          ]
        }
      ]
    },
    {
      "cell_type": "markdown",
      "metadata": {
        "id": "2Mfu2oWzy-vY"
      },
      "source": [
        "Python Strings"
      ]
    },
    {
      "cell_type": "code",
      "metadata": {
        "colab": {
          "base_uri": "https://localhost:8080/"
        },
        "id": "J_fB1bImu-KC",
        "outputId": "0f5da1eb-3e25-4cd2-bb1d-eb29c6151c4c"
      },
      "source": [
        "a = \"\"\"Lorem ipsum dolor sit amet,\n",
        "consectetur adipiscing elit,\n",
        "sed do eiusmod tempor incididunt\n",
        "ut labore et dolore magna aliqua.\"\"\"\n",
        "print(a)"
      ],
      "execution_count": null,
      "outputs": [
        {
          "output_type": "stream",
          "name": "stdout",
          "text": [
            "Lorem ipsum dolor sit amet,\n",
            "consectetur adipiscing elit,\n",
            "sed do eiusmod tempor incididunt\n",
            "ut labore et dolore magna aliqua.\n"
          ]
        }
      ]
    },
    {
      "cell_type": "code",
      "source": [
        "a = 5\n",
        "b = 10\n",
        "print('redwan \\nrahman')"
      ],
      "metadata": {
        "colab": {
          "base_uri": "https://localhost:8080/"
        },
        "id": "ckDKyhzUxiey",
        "outputId": "15b16642-5995-4c23-c373-6dc8a1b9cf31"
      },
      "execution_count": null,
      "outputs": [
        {
          "output_type": "stream",
          "name": "stdout",
          "text": [
            "redwan \n",
            "rahman\n"
          ]
        }
      ]
    },
    {
      "cell_type": "code",
      "metadata": {
        "colab": {
          "base_uri": "https://localhost:8080/"
        },
        "id": "M_z_r4iwvDy9",
        "outputId": "18796c77-0639-4a0a-e05c-4633d59ff442"
      },
      "source": [
        "a = 'Hi, world!'\n",
        "print(a[1])"
      ],
      "execution_count": null,
      "outputs": [
        {
          "output_type": "stream",
          "name": "stdout",
          "text": [
            "i\n"
          ]
        }
      ]
    },
    {
      "cell_type": "code",
      "source": [
        "for x in \"banana\" :    #interesting way, as strings are arrays\n",
        "    print(x)"
      ],
      "metadata": {
        "colab": {
          "base_uri": "https://localhost:8080/"
        },
        "id": "waEtH2AzexxB",
        "outputId": "611b92d9-7663-403f-e17a-fc49c4f5b6b6"
      },
      "execution_count": null,
      "outputs": [
        {
          "output_type": "stream",
          "name": "stdout",
          "text": [
            "b\n",
            "a\n",
            "n\n",
            "a\n",
            "n\n",
            "a\n"
          ]
        }
      ]
    },
    {
      "cell_type": "code",
      "source": [
        "a = \"hi, world!\"  #to check length of the string\n",
        "print(len(a))"
      ],
      "metadata": {
        "colab": {
          "base_uri": "https://localhost:8080/"
        },
        "id": "LBXhXc7ggZMO",
        "outputId": "81ef1191-29d0-4816-cf0c-449ec9c96b27"
      },
      "execution_count": null,
      "outputs": [
        {
          "output_type": "stream",
          "name": "stdout",
          "text": [
            "10\n"
          ]
        }
      ]
    },
    {
      "cell_type": "code",
      "source": [
        "#checking a phrase or charecter in a string\n",
        "text = 'The best things in life are free'\n",
        "print('free' in text)\n",
        "#or use-\n",
        "if 'free' in text :\n",
        "    print(\"Yes, 'free' is present\")\n",
        "#& konokichu na thakle in er age not dilei hobe"
      ],
      "metadata": {
        "colab": {
          "base_uri": "https://localhost:8080/"
        },
        "id": "fwOC7gRTgzWz",
        "outputId": "7e43d1f7-5152-492c-9946-ad1dcaf7bdbb"
      },
      "execution_count": null,
      "outputs": [
        {
          "output_type": "stream",
          "name": "stdout",
          "text": [
            "True\n",
            "Yes, 'free' is present\n"
          ]
        }
      ]
    },
    {
      "cell_type": "code",
      "source": [
        "#Slicing strings by indexing\n",
        "a = \"Hi, World!\"\n",
        "print(a[2:5])   #for selected part\n",
        "print(a[:5])    #for 'from the start x'\n",
        "print(a[2:])    #for 'from x to the end'"
      ],
      "metadata": {
        "colab": {
          "base_uri": "https://localhost:8080/"
        },
        "id": "O9tk4VYVjnTF",
        "outputId": "e84e31d5-5ad3-497b-ffb1-cc016dd3741b"
      },
      "execution_count": null,
      "outputs": [
        {
          "output_type": "stream",
          "name": "stdout",
          "text": [
            ", W\n",
            "Hi, W\n",
            ", World!\n"
          ]
        }
      ]
    },
    {
      "cell_type": "code",
      "source": [
        "#negative indexing\n",
        "a = \"Hi, World!\"\n",
        "print(a[-5:-2])"
      ],
      "metadata": {
        "colab": {
          "base_uri": "https://localhost:8080/"
        },
        "id": "fALKv81nj8_L",
        "outputId": "b96f1a3f-cfd2-48b9-9ded-e49ff1bf3015"
      },
      "execution_count": null,
      "outputs": [
        {
          "output_type": "stream",
          "name": "stdout",
          "text": [
            "orl\n"
          ]
        }
      ]
    },
    {
      "cell_type": "code",
      "source": [
        "#Upper case\n",
        "a = \"hello, world!\"\n",
        "print(a.upper())\n",
        "#lower case\n",
        "a = \"HELLO, WORLD!\"\n",
        "print(a.lower())"
      ],
      "metadata": {
        "colab": {
          "base_uri": "https://localhost:8080/"
        },
        "id": "19oXbknLkWV3",
        "outputId": "9163e75a-62b3-4a96-eb6f-9d22c765a5b4"
      },
      "execution_count": null,
      "outputs": [
        {
          "output_type": "stream",
          "name": "stdout",
          "text": [
            "HELLO, WORLD!\n",
            "hello, world!\n"
          ]
        }
      ]
    },
    {
      "cell_type": "code",
      "source": [
        "#removing whitespace\n",
        "a = \"   Hello, World!    \"\n",
        "print(a.strip())"
      ],
      "metadata": {
        "colab": {
          "base_uri": "https://localhost:8080/"
        },
        "id": "1O8hVw0fk7uj",
        "outputId": "b7d50efb-7604-4c13-e6cc-7ec1a72f1ca6"
      },
      "execution_count": null,
      "outputs": [
        {
          "output_type": "stream",
          "name": "stdout",
          "text": [
            "Hello, World!\n"
          ]
        }
      ]
    },
    {
      "cell_type": "code",
      "source": [
        "#replacing strings\n",
        "a = \"Hello, World\"\n",
        "print(a.replace(\"H\", \"J\"))"
      ],
      "metadata": {
        "colab": {
          "base_uri": "https://localhost:8080/"
        },
        "id": "C5Ni1-5olXwD",
        "outputId": "06382666-4597-4c38-f2a3-e367428370e0"
      },
      "execution_count": null,
      "outputs": [
        {
          "output_type": "stream",
          "name": "stdout",
          "text": [
            "Jello, World\n"
          ]
        }
      ]
    },
    {
      "cell_type": "code",
      "source": [
        "#split string\n",
        "a = \"Hello, World!\"\n",
        "print(a.split(\",\"))"
      ],
      "metadata": {
        "colab": {
          "base_uri": "https://localhost:8080/"
        },
        "id": "lJtmyykGlmJt",
        "outputId": "df46729b-89e3-4599-f283-f8887282cd80"
      },
      "execution_count": null,
      "outputs": [
        {
          "output_type": "stream",
          "name": "stdout",
          "text": [
            "['Hello', ' World!']\n"
          ]
        }
      ]
    },
    {
      "cell_type": "code",
      "source": [
        "#string concatenation\n",
        "a = \"Redwanur\"\n",
        "b = \"Rahman\"\n",
        "s_1 = a + b       #to joint many strings togather\n",
        "s_2 = a + \" \" + b #to create a space between the strings\n",
        "print(s_1)\n",
        "print(s_2)"
      ],
      "metadata": {
        "colab": {
          "base_uri": "https://localhost:8080/"
        },
        "id": "8RazWDdFl4eo",
        "outputId": "9e4bae19-bc0b-4e8a-a9c7-ddfcc3bc3939"
      },
      "execution_count": null,
      "outputs": [
        {
          "output_type": "stream",
          "name": "stdout",
          "text": [
            "RedwanurRahman\n",
            "Redwanur Rahman\n"
          ]
        }
      ]
    },
    {
      "cell_type": "code",
      "source": [
        "#string format\n",
        "#use it to joint a string and a number\n",
        "quantity = 3\n",
        "item_no = 567\n",
        "price = 49.95\n",
        "my_order = \"I want {} pieces of item {} for {} dollars.\"\n",
        "print(my_order.format(quantity, item_no, price))\n",
        "\n",
        "#using index number in the bracket to be sure the arguments are placed in the correct order\n",
        "my_order = \"I want to pay {2} dollars for {0} pieces of item {1}.\"\n",
        "print(my_order.format(quantity, item_no, price))"
      ],
      "metadata": {
        "id": "ET58QKkRmxr-",
        "colab": {
          "base_uri": "https://localhost:8080/"
        },
        "outputId": "c94a7915-18f5-47c1-9943-10b0c9302870"
      },
      "execution_count": null,
      "outputs": [
        {
          "output_type": "stream",
          "name": "stdout",
          "text": [
            "I want 3 pieces of item 567 for 49.95 dollars.\n",
            "I want to pay 49.95 dollars for 3 pieces of item 567.\n"
          ]
        }
      ]
    },
    {
      "cell_type": "code",
      "source": [
        "#Escape Charecters in python\n",
        "\\'\tSingle Quote\t       #jodi single quoter modhe single quote(' ' ') othoba double quoter moddhe double quote dite hoy, then use this\n",
        "\\\\\tBackslash           #\tjodi 1ta backslash(\\) dite hoy then use this\n",
        "\\n\tNew Line             #\twill create a new line\n",
        "\\r\tCarriage Return\t    # similiar to new line\n",
        "\\t\tTab\t                # will make a tab(doule space)\n",
        "\\b\tBackspace\t          # use it to make a backspace\n",
        "\\f\tForm Feed\n",
        "\\ooo\tOctal value\t      ##A backslash followed by three integers will result in a octal value:\n",
        "                          txt = \"\\110\\145\\154\\154\\157\"\n",
        "                          print(txt)\n",
        "                #output = Hello\n",
        "\n",
        "\\xhh\tHex value\t        #A backslash followed by an 'x' and a hex number represents a hex value:\n",
        "                          txt = \"\\x48\\x65\\x6c\\x6c\\x6f\"\n",
        "                          print(txt)\n",
        "                #output = Hello"
      ],
      "metadata": {
        "id": "9eTACbABtpAm"
      },
      "execution_count": null,
      "outputs": []
    },
    {
      "cell_type": "code",
      "source": [
        "#String methods\n",
        "#string er jonne pytoner built-in methods\n",
        "\n",
        "capitalize()\t     Converts the first character to upper case\n",
        "casefold()\t       Converts string into lower case\n",
        "center()\t         Returns a centered string\n",
        "count()\t          Returns the number of times a specified value occurs in a string\n",
        "encode()\t         Returns an encoded version of the string\n",
        "endswith()\t       Returns true if the string ends with the specified value\n",
        "expandtabs()\t     Sets the tab size of the string\n",
        "find()\t           Searches the string for a specified value and returns the position of where it was found\n",
        "format()\t         Formats specified values in a string\n",
        "format_map()\t     Formats specified values in a string\n",
        "index()\t          Searches the string for a specified value and returns the position of where it was found\n",
        "isalnum()\t        Returns True if all characters in the string are alphanumeric\n",
        "isalpha()\t        Returns True if all characters in the string are in the alphabet\n",
        "isdecimal()\t      Returns True if all characters in the string are decimals\n",
        "isdigit()\t        Returns True if all characters in the string are digits\n",
        "isidentifier()\t   Returns True if the string is an identifier\n",
        "islower()\t        Returns True if all characters in the string are lower case\n",
        "isnumeric()\t      Returns True if all characters in the string are numeric\n",
        "isprintable()\t    Returns True if all characters in the string are printable\n",
        "isspace()\t        Returns True if all characters in the string are whitespaces\n",
        "istitle()\t        Returns True if the string follows the rules of a title\n",
        "isupper()\t        Returns True if all characters in the string are upper case\n",
        "join()\t           Joins the elements of an iterable to the end of the string\n",
        "ljust()\t          Returns a left justified version of the string\n",
        "lower()\t          Converts a string into lower case\n",
        "lstrip()\t         Returns a left trim version of the string\n",
        "maketrans()\t      Returns a translation table to be used in translations\n",
        "partition()\t      Returns a tuple where the string is parted into three parts\n",
        "replace()\t        Returns a string where a specified value is replaced with a specified value\n",
        "rfind()\t          Searches the string for a specified value and returns the last position of where it was found\n",
        "rindex()\t         Searches the string for a specified value and returns the last position of where it was found\n",
        "rjust()\t          Returns a right justified version of the string\n",
        "rpartition()\t     Returns a tuple where the string is parted into three parts\n",
        "rsplit()\t         Splits the string at the specified separator, and returns a list\n",
        "rstrip()\t         Returns a right trim version of the string\n",
        "split()\t          Splits the string at the specified separator, and returns a list\n",
        "splitlines()\t     Splits the string at line breaks and returns a list\n",
        "startswith()\t     Returns true if the string starts with the specified value\n",
        "strip()\t          Returns a trimmed version of the string\n",
        "swapcase()\t       Swaps cases, lower case becomes upper case and vice versa\n",
        "title()\t          Converts the first character of each word to upper case\n",
        "translate()\t      Returns a translated string\n",
        "upper()\t          Converts a string into upper case\n",
        "zfill()\t          Fills the string with a specified number of 0 values at the beginning"
      ],
      "metadata": {
        "id": "IkOm651WkOV1"
      },
      "execution_count": null,
      "outputs": []
    }
  ]
}
