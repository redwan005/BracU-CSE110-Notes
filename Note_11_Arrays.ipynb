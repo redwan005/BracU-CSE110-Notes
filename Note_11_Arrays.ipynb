{
  "nbformat": 4,
  "nbformat_minor": 0,
  "metadata": {
    "colab": {
      "provenance": [],
      "authorship_tag": "ABX9TyPJZOB6JLIXr5MKXTbDfo5J",
      "include_colab_link": true
    },
    "kernelspec": {
      "name": "python3",
      "display_name": "Python 3"
    },
    "language_info": {
      "name": "python"
    }
  },
  "cells": [
    {
      "cell_type": "markdown",
      "metadata": {
        "id": "view-in-github",
        "colab_type": "text"
      },
      "source": [
        "<a href=\"https://colab.research.google.com/github/redwan005/BracU-CSE110-Notes/blob/main/Note_11_Arrays.ipynb\" target=\"_parent\"><img src=\"https://colab.research.google.com/assets/colab-badge.svg\" alt=\"Open In Colab\"/></a>"
      ]
    },
    {
      "cell_type": "markdown",
      "source": [
        "#Python Arrays\n",
        "Note : Python does not have built-in support for Arrays, but Python Lists can be used instead."
      ],
      "metadata": {
        "id": "ZlyurGYIyKPa"
      }
    },
    {
      "cell_type": "markdown",
      "source": [
        "#Arrays\n",
        "Note: This page shows you how to use LISTS as ARRAYS, however, to work with arrays in Python you will have to import a library, like the NumPy library."
      ],
      "metadata": {
        "id": "NHPqpoQjyg1F"
      }
    },
    {
      "cell_type": "code",
      "execution_count": null,
      "metadata": {
        "id": "TUbQTa6Ex5lT"
      },
      "outputs": [],
      "source": [
        "##Arrays are used to  store multiple values in one single variable :\n",
        "#Create an array containing car names :\n",
        "cars = [\"ford\", \"Volvo\", \"BMW\"]"
      ]
    },
    {
      "cell_type": "markdown",
      "source": [
        "#What is an Array?\n",
        "An array is a special variable, which can hold more than one value at a time.\n",
        "\n",
        "If you have a list of items (a list of car names, for example), storing the cars in single variables could look like this:\n",
        "\n",
        "car1 = \"Ford\"\n",
        "car2 = \"Volvo\"\n",
        "car3 = \"BMW\"\\\n",
        "However, what if you want to loop through the cars and find a specific one? And what if you had not 3 cars, but 300?\n",
        "\n",
        "The solution is an array!\n",
        "\n",
        "An array can hold many values under a single name, and you can access the values by referring to an index number."
      ],
      "metadata": {
        "id": "uZTk2sjKzg39"
      }
    },
    {
      "cell_type": "markdown",
      "source": [
        "#Access the Elements of an Array\n",
        "You refer to an array element by referring to the index number.\\\n",
        "Example :\\\n",
        "Get the value of the first array item :\n",
        "x = car[0]\\\n",
        "Modify the vlaue of the first array item :\\\n",
        "cars[0] = \"Toyota\"\n"
      ],
      "metadata": {
        "id": "GwKqR6H5zwYS"
      }
    },
    {
      "cell_type": "markdown",
      "source": [
        "#The Length of an array\n",
        "Use the len() method to return the length of any array(the number of elements in an array).\\\n",
        "Example :\\\n",
        "Return the number of elements in the cars array :\\\n",
        "x = len(cars)\\\n",
        "####Note The length of an array is always one more than the highest array index.\n"
      ],
      "metadata": {
        "id": "4u-Hplpd1NU8"
      }
    },
    {
      "cell_type": "markdown",
      "source": [
        "#Looping Array Elements\n",
        "You can use the for in loop to loop through all the elements of an array.\\\n",
        "Example :\\\n",
        "Print each item in the cars array :\\\n",
        "for x in cars :\\\n",
        "____print(x)"
      ],
      "metadata": {
        "id": "AJSOVHB41zM_"
      }
    },
    {
      "cell_type": "markdown",
      "source": [
        "#Adding Array Elements\n",
        "you can use the append() method to add an element to an array.\\\n",
        "###Example :\n",
        "add one mre element to the cars array :\n",
        "cars.append(\"Honda\")\n"
      ],
      "metadata": {
        "id": "ERp2_GRA2Uiu"
      }
    },
    {
      "cell_type": "markdown",
      "source": [
        "#Removing Array Elements\n",
        "You can use the pop() method to remove an element from the array.\n",
        "\n",
        "###Example\n",
        "Delete the second element of the cars array:\n",
        "\n",
        "cars.pop(1)\n",
        "\n",
        "You can also use the remove() method to remove an element from the array.\n",
        "\n",
        "Example\n",
        "Delete the element that has the value \"Volvo\":\n",
        "\n",
        "cars.remove(\"Volvo\")\n",
        "Note : The list's remove() method only removes the first occurrence of the specified value.\n"
      ],
      "metadata": {
        "id": "gU7_THHjDE7r"
      }
    },
    {
      "cell_type": "code",
      "source": [
        "#Array Methods\n",
        "\n",
        "#Python has a set of built-in methods that you can use on lists/arrays.\n",
        "\n",
        "Method\t       Description\n",
        "append()\t       Adds an element at the end of the list\n",
        "clear()\t         Removes all the elements from the list\n",
        "copy()\t         Returns a copy of the list\n",
        "count()\t         Returns the number of elements with the specified value\n",
        "extend()\t       Add the elements of a list (or any iterable), to the end of the current list\n",
        "index()\t         Returns the index of the first element with the specified value\n",
        "insert()\t       Adds an element at the specified position\n",
        "pop()\t           Removes the element at the specified position\n",
        "remove()\t       Removes the first item with the specified value\n",
        "reverse()\t       Reverses the order of the list\n",
        "sort()\t         Sorts the list"
      ],
      "metadata": {
        "id": "p7iQYJO0Dk5V"
      },
      "execution_count": null,
      "outputs": []
    }
  ]
}